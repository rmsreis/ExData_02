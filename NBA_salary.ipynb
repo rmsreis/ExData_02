{
 "cells": [
  {
   "cell_type": "markdown",
   "metadata": {},
   "source": [
    "## NBA Players' salary prediction"
   ]
  },
  {
   "cell_type": "markdown",
   "metadata": {},
   "source": [
    "## 1. Main Objective:\n",
    "\n",
    "The main objective of this analysis is to **evaluate** different linear regression models applied to predict the NBA players salaries.\n"
   ]
  },
  {
   "cell_type": "markdown",
   "metadata": {},
   "source": [
    "## 2. The Dataset\n",
    "\n",
    "We will be working with a data set based on [NBA2K20 players' salary](https://www.kaggle.com/isaienkov/nba2k20-player-dataset). \n",
    "\n",
    "It was compiled for educational use to be a modernized and expanded alternative to the well-known Boston Housing dataset.\n",
    "\n",
    "It contains the NBA players' salary and features such as `position` and `team` that contribute to the expected salary. "
   ]
  },
  {
   "cell_type": "markdown",
   "metadata": {},
   "source": [
    "### 2.1 Import the data using Pandas and examine the shape. "
   ]
  },
  {
   "cell_type": "code",
   "execution_count": 54,
   "metadata": {},
   "outputs": [],
   "source": [
    "import pandas as pd\n",
    "import numpy as np\n",
    "import os"
   ]
  },
  {
   "cell_type": "code",
   "execution_count": 55,
   "metadata": {},
   "outputs": [
    {
     "name": "stdout",
     "output_type": "stream",
     "text": [
      "(429, 14)\n"
     ]
    }
   ],
   "source": [
    "# Import the data using the file path \n",
    "data_path = ['data']\n",
    "filepath = os.sep.join(data_path + ['nba2k20-full.csv'])\n",
    "data = pd.read_csv(filepath, sep=',')\n",
    "\n",
    "print(data.shape)"
   ]
  },
  {
   "cell_type": "markdown",
   "metadata": {},
   "source": [
    "Lets now examine what type of data is present"
   ]
  },
  {
   "cell_type": "code",
   "execution_count": 56,
   "metadata": {},
   "outputs": [
    {
     "name": "stdout",
     "output_type": "stream",
     "text": [
      "<class 'pandas.core.frame.DataFrame'>\n",
      "RangeIndex: 429 entries, 0 to 428\n",
      "Data columns (total 14 columns):\n",
      " #   Column       Non-Null Count  Dtype \n",
      "---  ------       --------------  ----- \n",
      " 0   full_name    429 non-null    object\n",
      " 1   rating       429 non-null    int64 \n",
      " 2   jersey       429 non-null    object\n",
      " 3   team         406 non-null    object\n",
      " 4   position     429 non-null    object\n",
      " 5   b_day        429 non-null    object\n",
      " 6   height       429 non-null    object\n",
      " 7   weight       429 non-null    object\n",
      " 8   salary       429 non-null    object\n",
      " 9   country      429 non-null    object\n",
      " 10  draft_year   429 non-null    int64 \n",
      " 11  draft_round  429 non-null    object\n",
      " 12  draft_peak   429 non-null    object\n",
      " 13  college      363 non-null    object\n",
      "dtypes: int64(2), object(12)\n",
      "memory usage: 47.0+ KB\n",
      "None\n",
      "There are two different types ofdata: integers (int64) and strings (object)\n"
     ]
    }
   ],
   "source": [
    "print(data.info())\n",
    "\n",
    "print('There are two different types ofdata: integers (int64) and strings (object)')"
   ]
  },
  {
   "cell_type": "markdown",
   "metadata": {},
   "source": [
    "## 3. Data cleaning/feature engineering\n",
    "\n",
    "There are 14 different features that were described in the previous cell.\n",
    "\n",
    "The next few cells will performe feature engineering in the data set."
   ]
  },
  {
   "cell_type": "markdown",
   "metadata": {},
   "source": [
    "- Let's first check if there's any missing value"
   ]
  },
  {
   "cell_type": "code",
   "execution_count": 57,
   "metadata": {},
   "outputs": [
    {
     "data": {
      "text/html": [
       "<div>\n",
       "<style scoped>\n",
       "    .dataframe tbody tr th:only-of-type {\n",
       "        vertical-align: middle;\n",
       "    }\n",
       "\n",
       "    .dataframe tbody tr th {\n",
       "        vertical-align: top;\n",
       "    }\n",
       "\n",
       "    .dataframe thead th {\n",
       "        text-align: right;\n",
       "    }\n",
       "</style>\n",
       "<table border=\"1\" class=\"dataframe\">\n",
       "  <thead>\n",
       "    <tr style=\"text-align: right;\">\n",
       "      <th></th>\n",
       "      <th>full_name</th>\n",
       "      <th>rating</th>\n",
       "      <th>jersey</th>\n",
       "      <th>team</th>\n",
       "      <th>position</th>\n",
       "      <th>b_day</th>\n",
       "      <th>height</th>\n",
       "      <th>weight</th>\n",
       "      <th>salary</th>\n",
       "      <th>country</th>\n",
       "      <th>draft_year</th>\n",
       "      <th>draft_round</th>\n",
       "      <th>draft_peak</th>\n",
       "      <th>college</th>\n",
       "    </tr>\n",
       "  </thead>\n",
       "  <tbody>\n",
       "    <tr>\n",
       "      <th>0</th>\n",
       "      <td>LeBron James</td>\n",
       "      <td>97</td>\n",
       "      <td>#23</td>\n",
       "      <td>Los Angeles Lakers</td>\n",
       "      <td>F</td>\n",
       "      <td>12/30/84</td>\n",
       "      <td>6-9 / 2.06</td>\n",
       "      <td>250 lbs. / 113.4 kg.</td>\n",
       "      <td>$37436858</td>\n",
       "      <td>USA</td>\n",
       "      <td>2003</td>\n",
       "      <td>1</td>\n",
       "      <td>1</td>\n",
       "      <td>NaN</td>\n",
       "    </tr>\n",
       "    <tr>\n",
       "      <th>2</th>\n",
       "      <td>Giannis Antetokounmpo</td>\n",
       "      <td>96</td>\n",
       "      <td>#34</td>\n",
       "      <td>Milwaukee Bucks</td>\n",
       "      <td>F-G</td>\n",
       "      <td>12/06/94</td>\n",
       "      <td>6-11 / 2.11</td>\n",
       "      <td>242 lbs. / 109.8 kg.</td>\n",
       "      <td>$25842697</td>\n",
       "      <td>Greece</td>\n",
       "      <td>2013</td>\n",
       "      <td>1</td>\n",
       "      <td>15</td>\n",
       "      <td>NaN</td>\n",
       "    </tr>\n",
       "    <tr>\n",
       "      <th>11</th>\n",
       "      <td>Nikola Jokic</td>\n",
       "      <td>90</td>\n",
       "      <td>#15</td>\n",
       "      <td>Denver Nuggets</td>\n",
       "      <td>C</td>\n",
       "      <td>02/19/95</td>\n",
       "      <td>7-0 / 2.13</td>\n",
       "      <td>253 lbs. / 114.8 kg.</td>\n",
       "      <td>$27504630</td>\n",
       "      <td>Serbia</td>\n",
       "      <td>2014</td>\n",
       "      <td>2</td>\n",
       "      <td>41</td>\n",
       "      <td>NaN</td>\n",
       "    </tr>\n",
       "    <tr>\n",
       "      <th>16</th>\n",
       "      <td>Rudy Gobert</td>\n",
       "      <td>88</td>\n",
       "      <td>#27</td>\n",
       "      <td>Utah Jazz</td>\n",
       "      <td>C</td>\n",
       "      <td>06/26/92</td>\n",
       "      <td>7-1 / 2.16</td>\n",
       "      <td>238 lbs. / 108 kg.</td>\n",
       "      <td>$25258427</td>\n",
       "      <td>France</td>\n",
       "      <td>2013</td>\n",
       "      <td>1</td>\n",
       "      <td>27</td>\n",
       "      <td>NaN</td>\n",
       "    </tr>\n",
       "    <tr>\n",
       "      <th>20</th>\n",
       "      <td>Luka Doncic</td>\n",
       "      <td>87</td>\n",
       "      <td>#77</td>\n",
       "      <td>Dallas Mavericks</td>\n",
       "      <td>G-F</td>\n",
       "      <td>02/28/99</td>\n",
       "      <td>6-7 / 2.01</td>\n",
       "      <td>227 lbs. / 103 kg.</td>\n",
       "      <td>$7683360</td>\n",
       "      <td>Slovenia</td>\n",
       "      <td>2018</td>\n",
       "      <td>1</td>\n",
       "      <td>3</td>\n",
       "      <td>NaN</td>\n",
       "    </tr>\n",
       "    <tr>\n",
       "      <th>...</th>\n",
       "      <td>...</td>\n",
       "      <td>...</td>\n",
       "      <td>...</td>\n",
       "      <td>...</td>\n",
       "      <td>...</td>\n",
       "      <td>...</td>\n",
       "      <td>...</td>\n",
       "      <td>...</td>\n",
       "      <td>...</td>\n",
       "      <td>...</td>\n",
       "      <td>...</td>\n",
       "      <td>...</td>\n",
       "      <td>...</td>\n",
       "      <td>...</td>\n",
       "    </tr>\n",
       "    <tr>\n",
       "      <th>412</th>\n",
       "      <td>Amile Jefferson</td>\n",
       "      <td>69</td>\n",
       "      <td>#0</td>\n",
       "      <td>NaN</td>\n",
       "      <td>F-C</td>\n",
       "      <td>05/07/93</td>\n",
       "      <td>6-9 / 2.06</td>\n",
       "      <td>224 lbs. / 101.6 kg.</td>\n",
       "      <td>$1529007</td>\n",
       "      <td>USA</td>\n",
       "      <td>2017</td>\n",
       "      <td>Undrafted</td>\n",
       "      <td>Undrafted</td>\n",
       "      <td>Duke</td>\n",
       "    </tr>\n",
       "    <tr>\n",
       "      <th>418</th>\n",
       "      <td>Tyrone Wallace</td>\n",
       "      <td>69</td>\n",
       "      <td>#0</td>\n",
       "      <td>NaN</td>\n",
       "      <td>G-F</td>\n",
       "      <td>06/10/94</td>\n",
       "      <td>6-5 / 1.96</td>\n",
       "      <td>200 lbs. / 90.7 kg.</td>\n",
       "      <td>$502491</td>\n",
       "      <td>USA</td>\n",
       "      <td>2016</td>\n",
       "      <td>2</td>\n",
       "      <td>60</td>\n",
       "      <td>California</td>\n",
       "    </tr>\n",
       "    <tr>\n",
       "      <th>421</th>\n",
       "      <td>Isaac Bonga</td>\n",
       "      <td>68</td>\n",
       "      <td>#17</td>\n",
       "      <td>Washington Wizards</td>\n",
       "      <td>G</td>\n",
       "      <td>11/08/99</td>\n",
       "      <td>6-8 / 2.03</td>\n",
       "      <td>200 lbs. / 90.7 kg.</td>\n",
       "      <td>$1416852</td>\n",
       "      <td>Germany</td>\n",
       "      <td>2018</td>\n",
       "      <td>2</td>\n",
       "      <td>39</td>\n",
       "      <td>NaN</td>\n",
       "    </tr>\n",
       "    <tr>\n",
       "      <th>422</th>\n",
       "      <td>Isaiah Hartenstein</td>\n",
       "      <td>68</td>\n",
       "      <td>#0</td>\n",
       "      <td>NaN</td>\n",
       "      <td>F-C</td>\n",
       "      <td>05/05/98</td>\n",
       "      <td>7-0 / 2.13</td>\n",
       "      <td>250 lbs. / 113.4 kg.</td>\n",
       "      <td>$1416852</td>\n",
       "      <td>Germany</td>\n",
       "      <td>2017</td>\n",
       "      <td>2</td>\n",
       "      <td>43</td>\n",
       "      <td>NaN</td>\n",
       "    </tr>\n",
       "    <tr>\n",
       "      <th>427</th>\n",
       "      <td>Jalen Lecque</td>\n",
       "      <td>68</td>\n",
       "      <td>#0</td>\n",
       "      <td>Phoenix Suns</td>\n",
       "      <td>G</td>\n",
       "      <td>06/13/00</td>\n",
       "      <td>6-3 / 1.91</td>\n",
       "      <td>190 lbs. / 86.2 kg.</td>\n",
       "      <td>$898310</td>\n",
       "      <td>USA</td>\n",
       "      <td>2019</td>\n",
       "      <td>Undrafted</td>\n",
       "      <td>Undrafted</td>\n",
       "      <td>NaN</td>\n",
       "    </tr>\n",
       "  </tbody>\n",
       "</table>\n",
       "<p>85 rows × 14 columns</p>\n",
       "</div>"
      ],
      "text/plain": [
       "                 full_name  rating jersey                team position  \\\n",
       "0             LeBron James      97    #23  Los Angeles Lakers        F   \n",
       "2    Giannis Antetokounmpo      96    #34     Milwaukee Bucks      F-G   \n",
       "11            Nikola Jokic      90    #15      Denver Nuggets        C   \n",
       "16             Rudy Gobert      88    #27           Utah Jazz        C   \n",
       "20             Luka Doncic      87    #77    Dallas Mavericks      G-F   \n",
       "..                     ...     ...    ...                 ...      ...   \n",
       "412        Amile Jefferson      69     #0                 NaN      F-C   \n",
       "418         Tyrone Wallace      69     #0                 NaN      G-F   \n",
       "421            Isaac Bonga      68    #17  Washington Wizards        G   \n",
       "422     Isaiah Hartenstein      68     #0                 NaN      F-C   \n",
       "427           Jalen Lecque      68     #0        Phoenix Suns        G   \n",
       "\n",
       "        b_day       height                weight     salary   country  \\\n",
       "0    12/30/84   6-9 / 2.06  250 lbs. / 113.4 kg.  $37436858       USA   \n",
       "2    12/06/94  6-11 / 2.11  242 lbs. / 109.8 kg.  $25842697    Greece   \n",
       "11   02/19/95   7-0 / 2.13  253 lbs. / 114.8 kg.  $27504630    Serbia   \n",
       "16   06/26/92   7-1 / 2.16    238 lbs. / 108 kg.  $25258427    France   \n",
       "20   02/28/99   6-7 / 2.01    227 lbs. / 103 kg.   $7683360  Slovenia   \n",
       "..        ...          ...                   ...        ...       ...   \n",
       "412  05/07/93   6-9 / 2.06  224 lbs. / 101.6 kg.   $1529007       USA   \n",
       "418  06/10/94   6-5 / 1.96   200 lbs. / 90.7 kg.    $502491       USA   \n",
       "421  11/08/99   6-8 / 2.03   200 lbs. / 90.7 kg.   $1416852   Germany   \n",
       "422  05/05/98   7-0 / 2.13  250 lbs. / 113.4 kg.   $1416852   Germany   \n",
       "427  06/13/00   6-3 / 1.91   190 lbs. / 86.2 kg.    $898310       USA   \n",
       "\n",
       "     draft_year draft_round draft_peak     college  \n",
       "0          2003           1          1         NaN  \n",
       "2          2013           1         15         NaN  \n",
       "11         2014           2         41         NaN  \n",
       "16         2013           1         27         NaN  \n",
       "20         2018           1          3         NaN  \n",
       "..          ...         ...        ...         ...  \n",
       "412        2017   Undrafted  Undrafted        Duke  \n",
       "418        2016           2         60  California  \n",
       "421        2018           2         39         NaN  \n",
       "422        2017           2         43         NaN  \n",
       "427        2019   Undrafted  Undrafted         NaN  \n",
       "\n",
       "[85 rows x 14 columns]"
      ]
     },
     "execution_count": 57,
     "metadata": {},
     "output_type": "execute_result"
    }
   ],
   "source": [
    "data[data.isnull().any(axis=1)]"
   ]
  },
  {
   "cell_type": "markdown",
   "metadata": {},
   "source": [
    "- Column `team` have NaN values and column `draft_round` containes string values `Undrafted`. To fix that let's fill NaNs and replace string values by int.\n",
    "\n",
    "- We need to split the data in order to get values from some columns like `weight`, `height` and `salary`. Also, Let's extract date from `b_day` create `age` column.\n",
    "\n",
    "- We will create a function call `prepare_data` te engineer all these features. "
   ]
  },
  {
   "cell_type": "code",
   "execution_count": 58,
   "metadata": {},
   "outputs": [],
   "source": [
    "from datetime import date, datetime\n",
    "\n",
    "def prepare_data(data: pd.DataFrame):\n",
    "    '''\n",
    "        Preprocesses data\n",
    "    '''\n",
    "    def calculateAge(birthDate: str):\n",
    "        '''\n",
    "        calculates age of person, on given birth day\n",
    "        '''\n",
    "        datetime_object = datetime.strptime(birthDate, '%m/%d/%y')\n",
    "        today = date.today() \n",
    "        age = today.year - datetime_object.year -  ((today.month, today.day) < (datetime_object.month, datetime_object.day)) \n",
    "        return age \n",
    "    \n",
    "    data['jersey'] = data['jersey'].apply(lambda x: int(x[1:]))\n",
    "    data['age'] = data['b_day'].apply(calculateAge)\n",
    "    data['height'] = data['height'].apply(lambda x: float(x.split('/')[1]))\n",
    "    data['weight'] = data['weight'].apply(lambda x: float(x.split('/')[1].split(' ')[1]))\n",
    "    data['salary'] = data['salary'].apply(lambda x: float(x[1:]))\n",
    "    data['draft_round'].replace('Undrafted', 0, inplace = True)\n",
    "    data['draft_round'] = data['draft_round'].apply(int)\n",
    "    data['team'] = data['team'].fillna('No team')\n",
    "    data['college'] = data['college'].fillna('No education')\n",
    "#     data.drop(['b_day', 'draft_peak'], axis = 1, inplace = True)"
   ]
  },
  {
   "cell_type": "markdown",
   "metadata": {},
   "source": [
    "Now we can pass the data on the `prepare_data` function and we will have a final cleaner dataset to work with."
   ]
  },
  {
   "cell_type": "code",
   "execution_count": 59,
   "metadata": {},
   "outputs": [],
   "source": [
    "prepare_data(data)"
   ]
  },
  {
   "cell_type": "code",
   "execution_count": 60,
   "metadata": {},
   "outputs": [],
   "source": [
    "#removing imbalanced data\n",
    "data.loc[data['country'] != 'USA', 'country'] = 'not USA'\n",
    "data.loc[data['position'] == 'C-F', 'position'] = 'F-C'\n",
    "data.loc[data['position'] == 'F-G', 'position'] = 'F'\n",
    "data.loc[data['position'] == 'G-F', 'position'] = 'F'"
   ]
  },
  {
   "cell_type": "markdown",
   "metadata": {},
   "source": [
    " - Some columns contain not useful information for model, such as `college`, `full_name`, `jersey` and `draft_peak` and needed to be dropped."
   ]
  },
  {
   "cell_type": "code",
   "execution_count": 61,
   "metadata": {},
   "outputs": [],
   "source": [
    "data = data.drop(['college', 'full_name', 'jersey', 'draft_peak', 'b_day'], axis=1)"
   ]
  },
  {
   "cell_type": "code",
   "execution_count": 62,
   "metadata": {},
   "outputs": [
    {
     "data": {
      "text/html": [
       "<div>\n",
       "<style scoped>\n",
       "    .dataframe tbody tr th:only-of-type {\n",
       "        vertical-align: middle;\n",
       "    }\n",
       "\n",
       "    .dataframe tbody tr th {\n",
       "        vertical-align: top;\n",
       "    }\n",
       "\n",
       "    .dataframe thead th {\n",
       "        text-align: right;\n",
       "    }\n",
       "</style>\n",
       "<table border=\"1\" class=\"dataframe\">\n",
       "  <thead>\n",
       "    <tr style=\"text-align: right;\">\n",
       "      <th></th>\n",
       "      <th>rating</th>\n",
       "      <th>team</th>\n",
       "      <th>position</th>\n",
       "      <th>height</th>\n",
       "      <th>weight</th>\n",
       "      <th>salary</th>\n",
       "      <th>country</th>\n",
       "      <th>draft_year</th>\n",
       "      <th>draft_round</th>\n",
       "      <th>age</th>\n",
       "    </tr>\n",
       "  </thead>\n",
       "  <tbody>\n",
       "    <tr>\n",
       "      <th>424</th>\n",
       "      <td>68</td>\n",
       "      <td>Atlanta Hawks</td>\n",
       "      <td>G</td>\n",
       "      <td>1.83</td>\n",
       "      <td>81.6</td>\n",
       "      <td>522738.0</td>\n",
       "      <td>USA</td>\n",
       "      <td>2018</td>\n",
       "      <td>0</td>\n",
       "      <td>25</td>\n",
       "    </tr>\n",
       "    <tr>\n",
       "      <th>425</th>\n",
       "      <td>68</td>\n",
       "      <td>Houston Rockets</td>\n",
       "      <td>G</td>\n",
       "      <td>1.91</td>\n",
       "      <td>90.7</td>\n",
       "      <td>79568.0</td>\n",
       "      <td>USA</td>\n",
       "      <td>2015</td>\n",
       "      <td>2</td>\n",
       "      <td>27</td>\n",
       "    </tr>\n",
       "    <tr>\n",
       "      <th>426</th>\n",
       "      <td>68</td>\n",
       "      <td>Los Angeles Lakers</td>\n",
       "      <td>F</td>\n",
       "      <td>2.08</td>\n",
       "      <td>90.7</td>\n",
       "      <td>79568.0</td>\n",
       "      <td>not USA</td>\n",
       "      <td>2018</td>\n",
       "      <td>0</td>\n",
       "      <td>23</td>\n",
       "    </tr>\n",
       "    <tr>\n",
       "      <th>427</th>\n",
       "      <td>68</td>\n",
       "      <td>Phoenix Suns</td>\n",
       "      <td>G</td>\n",
       "      <td>1.91</td>\n",
       "      <td>86.2</td>\n",
       "      <td>898310.0</td>\n",
       "      <td>USA</td>\n",
       "      <td>2019</td>\n",
       "      <td>0</td>\n",
       "      <td>20</td>\n",
       "    </tr>\n",
       "    <tr>\n",
       "      <th>428</th>\n",
       "      <td>67</td>\n",
       "      <td>Miami Heat</td>\n",
       "      <td>F</td>\n",
       "      <td>2.01</td>\n",
       "      <td>97.5</td>\n",
       "      <td>1416852.0</td>\n",
       "      <td>USA</td>\n",
       "      <td>2018</td>\n",
       "      <td>0</td>\n",
       "      <td>27</td>\n",
       "    </tr>\n",
       "  </tbody>\n",
       "</table>\n",
       "</div>"
      ],
      "text/plain": [
       "     rating                team position  height  weight     salary  country  \\\n",
       "424      68       Atlanta Hawks        G    1.83    81.6   522738.0      USA   \n",
       "425      68     Houston Rockets        G    1.91    90.7    79568.0      USA   \n",
       "426      68  Los Angeles Lakers        F    2.08    90.7    79568.0  not USA   \n",
       "427      68        Phoenix Suns        G    1.91    86.2   898310.0      USA   \n",
       "428      67          Miami Heat        F    2.01    97.5  1416852.0      USA   \n",
       "\n",
       "     draft_year  draft_round  age  \n",
       "424        2018            0   25  \n",
       "425        2015            2   27  \n",
       "426        2018            0   23  \n",
       "427        2019            0   20  \n",
       "428        2018            0   27  "
      ]
     },
     "execution_count": 62,
     "metadata": {},
     "output_type": "execute_result"
    }
   ],
   "source": [
    "data.tail(5)"
   ]
  },
  {
   "cell_type": "markdown",
   "metadata": {},
   "source": [
    "- Lets now check if there's any outliers that can be removed from our dataset."
   ]
  },
  {
   "cell_type": "code",
   "execution_count": 63,
   "metadata": {
    "scrolled": false
   },
   "outputs": [
    {
     "data": {
      "application/vnd.plotly.v1+json": {
       "config": {
        "plotlyServerURL": "https://plot.ly"
       },
       "data": [
        {
         "boxpoints": "all",
         "name": "age",
         "type": "box",
         "xaxis": "x",
         "y": [
          36,
          29,
          26,
          32,
          31,
          33,
          28,
          31,
          30,
          27,
          29,
          26,
          32,
          31,
          25,
          31,
          28,
          32,
          24,
          31,
          22,
          35,
          27,
          33,
          31,
          29,
          29,
          25,
          25,
          27,
          24,
          23,
          24,
          30,
          27,
          31,
          30,
          30,
          30,
          23,
          22,
          31,
          27,
          28,
          34,
          26,
          35,
          29,
          36,
          23,
          27,
          25,
          24,
          34,
          22,
          32,
          28,
          32,
          27,
          32,
          23,
          26,
          26,
          36,
          27,
          22,
          28,
          21,
          36,
          27,
          25,
          31,
          20,
          34,
          25,
          23,
          32,
          25,
          29,
          31,
          32,
          30,
          29,
          31,
          31,
          28,
          27,
          36,
          27,
          27,
          21,
          23,
          23,
          23,
          28,
          32,
          24,
          27,
          35,
          22,
          26,
          33,
          28,
          33,
          33,
          23,
          30,
          30,
          36,
          27,
          26,
          32,
          20,
          30,
          30,
          28,
          23,
          22,
          28,
          28,
          32,
          30,
          29,
          37,
          26,
          31,
          24,
          28,
          30,
          25,
          26,
          26,
          27,
          27,
          32,
          26,
          25,
          20,
          23,
          30,
          23,
          32,
          24,
          33,
          34,
          31,
          35,
          27,
          33,
          29,
          27,
          25,
          25,
          27,
          31,
          25,
          29,
          27,
          27,
          22,
          23,
          28,
          24,
          22,
          26,
          35,
          33,
          36,
          32,
          28,
          30,
          23,
          24,
          28,
          30,
          31,
          31,
          35,
          34,
          28,
          22,
          34,
          23,
          24,
          28,
          27,
          21,
          29,
          34,
          25,
          25,
          27,
          22,
          28,
          29,
          35,
          24,
          29,
          32,
          29,
          34,
          29,
          21,
          40,
          34,
          31,
          35,
          28,
          24,
          34,
          27,
          27,
          33,
          27,
          26,
          30,
          26,
          35,
          26,
          27,
          34,
          24,
          40,
          23,
          27,
          33,
          25,
          32,
          29,
          32,
          23,
          31,
          29,
          26,
          29,
          32,
          25,
          25,
          25,
          27,
          26,
          28,
          25,
          30,
          23,
          28,
          28,
          30,
          30,
          24,
          28,
          22,
          23,
          28,
          26,
          29,
          24,
          29,
          29,
          24,
          29,
          32,
          36,
          31,
          32,
          27,
          24,
          27,
          27,
          23,
          25,
          20,
          23,
          23,
          25,
          26,
          25,
          26,
          24,
          21,
          29,
          27,
          38,
          29,
          30,
          30,
          28,
          27,
          24,
          27,
          24,
          25,
          23,
          34,
          34,
          29,
          22,
          28,
          27,
          26,
          22,
          31,
          32,
          29,
          23,
          35,
          32,
          22,
          31,
          24,
          21,
          27,
          20,
          24,
          30,
          21,
          25,
          24,
          29,
          29,
          24,
          35,
          28,
          30,
          29,
          32,
          25,
          26,
          29,
          35,
          24,
          25,
          29,
          31,
          29,
          27,
          26,
          21,
          21,
          35,
          25,
          28,
          21,
          22,
          31,
          22,
          27,
          21,
          30,
          21,
          22,
          26,
          22,
          22,
          24,
          25,
          23,
          21,
          21,
          26,
          28,
          25,
          24,
          23,
          23,
          22,
          27,
          23,
          25,
          27,
          28,
          22,
          23,
          24,
          28,
          25,
          22,
          24,
          24,
          22,
          20,
          24,
          23,
          22,
          24,
          24,
          25,
          20,
          23,
          22,
          24,
          30,
          25,
          25,
          25,
          23,
          26,
          27,
          32,
          24,
          22,
          26,
          21,
          20,
          24,
          28,
          21,
          22,
          29,
          24,
          24,
          26,
          28,
          25,
          25,
          26,
          24,
          26,
          26,
          23,
          28,
          21,
          23,
          30,
          25,
          27,
          23,
          20,
          27
         ],
         "yaxis": "y"
        },
        {
         "boxpoints": "all",
         "name": "weight",
         "type": "box",
         "xaxis": "x2",
         "y": [
          113.4,
          102.1,
          109.8,
          104.3,
          99.8,
          83.9,
          100.7,
          95.3,
          88.5,
          113.4,
          81.6,
          114.8,
          86.2,
          93,
          112.5,
          99.8,
          108,
          114.3,
          95.7,
          78,
          103,
          111.6,
          93.9,
          83.9,
          99.8,
          89.4,
          96.6,
          99.8,
          87.5,
          103,
          108.9,
          77.6,
          93.4,
          122.5,
          122.5,
          104.3,
          81.6,
          108.9,
          88.5,
          92.5,
          81.6,
          88.5,
          95.7,
          102.5,
          111.6,
          82.1,
          93,
          98.4,
          79.4,
          102.1,
          96.2,
          100.2,
          91.2,
          79.4,
          106.6,
          98,
          101.2,
          102.1,
          114.8,
          117.9,
          108.9,
          131.5,
          113.4,
          120.2,
          115.7,
          113.4,
          93,
          110,
          113.4,
          103,
          108.4,
          108.9,
          128.8,
          104.3,
          99.8,
          88.9,
          120.2,
          104.8,
          104.8,
          106.6,
          86.2,
          94.8,
          111.6,
          93.9,
          94.3,
          118.8,
          89.8,
          86.2,
          90.7,
          99.8,
          78.9,
          110.2,
          106.1,
          86.2,
          95.3,
          81.6,
          101.2,
          109.8,
          86.2,
          81.6,
          93,
          94.8,
          81.6,
          120.2,
          122.5,
          101.2,
          93.4,
          102.1,
          102.1,
          89.4,
          89.4,
          99.8,
          91.6,
          81.6,
          79.4,
          93,
          109.3,
          117.5,
          84.4,
          86.2,
          97.5,
          99.8,
          97.5,
          93.9,
          86.6,
          106.6,
          77.1,
          103,
          106.1,
          92.1,
          106.6,
          111.6,
          86.2,
          78,
          82.1,
          90.7,
          100.7,
          79.4,
          102.1,
          97.5,
          102.1,
          95.3,
          89.8,
          101.6,
          96.2,
          97.5,
          102.1,
          97.1,
          94.8,
          90.3,
          102.1,
          100.7,
          79.4,
          93.4,
          108,
          108.4,
          106.1,
          99.8,
          98,
          86.2,
          88.5,
          104.3,
          120.2,
          88.5,
          115.7,
          95.3,
          81.6,
          79.4,
          106.6,
          95.7,
          88.5,
          102.1,
          86.2,
          92.5,
          106.6,
          108.4,
          104.3,
          87.1,
          106.6,
          94.3,
          86.2,
          106.6,
          93,
          92.1,
          104.8,
          105.2,
          97.5,
          111.1,
          99.8,
          86.2,
          122.5,
          83.9,
          97.5,
          90.7,
          93.4,
          84.4,
          81.6,
          97.5,
          83.9,
          95.3,
          108.9,
          82.1,
          83.9,
          113.4,
          117.9,
          88.5,
          90.7,
          103.9,
          94.8,
          102.1,
          91.6,
          93,
          90.7,
          84.8,
          92.5,
          99.8,
          91.2,
          81.6,
          95.7,
          110.2,
          111.1,
          88.9,
          96.2,
          97.5,
          94.8,
          115.7,
          109.3,
          131.5,
          90.7,
          83.9,
          89.4,
          111.1,
          79.4,
          97.5,
          89.8,
          107.5,
          112,
          90.7,
          99.8,
          104.3,
          101.6,
          94.8,
          102.1,
          90.7,
          105.2,
          97.5,
          81.6,
          97.5,
          81.6,
          99.3,
          80.7,
          88.5,
          105.2,
          94.3,
          91.2,
          84.4,
          88.5,
          83.9,
          95.7,
          100.7,
          98.9,
          86.6,
          103,
          108.9,
          90.7,
          97.5,
          99.8,
          95.7,
          95.3,
          107.5,
          98,
          99.8,
          102.1,
          105.2,
          99.8,
          93.9,
          97.5,
          104.3,
          86.2,
          97.5,
          88.5,
          84.4,
          106.6,
          89.4,
          86.2,
          91.2,
          96.6,
          86.2,
          83.9,
          99.8,
          109.8,
          83.9,
          83.9,
          104.3,
          105.2,
          104.3,
          86.2,
          95.3,
          102.5,
          106.6,
          96.6,
          88.5,
          79.4,
          89.8,
          111.1,
          88.5,
          93,
          92.5,
          95.3,
          113.4,
          88.5,
          106.6,
          94.8,
          97.5,
          107,
          99.8,
          93,
          89.4,
          83.5,
          90.7,
          93,
          102.1,
          122.5,
          77.1,
          91.6,
          81.6,
          88.9,
          93,
          85.7,
          90.7,
          98,
          82.1,
          93,
          102.1,
          77.1,
          104.3,
          81.6,
          82.1,
          93,
          108.9,
          106.1,
          97.5,
          98,
          107,
          97.5,
          102.1,
          88.5,
          98.9,
          97.5,
          113.4,
          86.2,
          95.3,
          93,
          104,
          91.2,
          95.3,
          88.5,
          94.8,
          95.7,
          89.4,
          90.7,
          90.7,
          108.9,
          95.3,
          83.5,
          106.1,
          99.3,
          93,
          108.9,
          86.2,
          85.7,
          88.5,
          86.2,
          86.2,
          101.2,
          84.4,
          94.8,
          108.9,
          109.3,
          111.1,
          97.5,
          115.7,
          90.7,
          97.5,
          93,
          102.1,
          106.6,
          90.7,
          112.5,
          89.8,
          91.2,
          102.5,
          91.2,
          98,
          99.8,
          93,
          104.3,
          102.1,
          115.7,
          112.9,
          97.1,
          91.2,
          88,
          106.1,
          108.9,
          97.5,
          112.9,
          98,
          108.9,
          86.2,
          109.8,
          83.9,
          101.6,
          95.3,
          99.8,
          102.1,
          97.5,
          102.1,
          90.7,
          95.3,
          93,
          90.7,
          113.4,
          81.2,
          81.6,
          90.7,
          90.7,
          86.2,
          97.5
         ],
         "yaxis": "y2"
        },
        {
         "boxpoints": "all",
         "name": "height",
         "type": "box",
         "xaxis": "x3",
         "y": [
          2.06,
          2.01,
          2.11,
          2.08,
          1.96,
          1.91,
          2.08,
          2.03,
          1.88,
          2.13,
          1.88,
          2.13,
          1.91,
          1.98,
          2.11,
          2.01,
          2.16,
          2.06,
          1.85,
          1.83,
          2.01,
          2.11,
          1.91,
          1.85,
          1.98,
          1.91,
          1.93,
          2.21,
          1.93,
          2.06,
          2.08,
          1.91,
          1.96,
          2.08,
          2.08,
          1.98,
          1.91,
          2.11,
          1.93,
          2.03,
          1.85,
          1.85,
          2.08,
          2.03,
          2.06,
          1.98,
          1.83,
          2.01,
          1.85,
          2.06,
          1.93,
          2.03,
          1.93,
          1.85,
          2.11,
          2.03,
          1.96,
          2.08,
          2.01,
          2.03,
          2.13,
          2.13,
          2.03,
          2.11,
          2.11,
          2.11,
          1.96,
          2.11,
          2.01,
          1.91,
          2.11,
          2.13,
          1.98,
          2.03,
          2.03,
          2.01,
          2.11,
          2.11,
          2.11,
          2.13,
          1.88,
          2.01,
          2.06,
          2.01,
          1.91,
          2.08,
          2.03,
          1.91,
          1.96,
          2.03,
          1.91,
          2.06,
          2.11,
          1.98,
          2.03,
          1.85,
          1.98,
          2.13,
          1.91,
          1.96,
          1.93,
          2.01,
          1.96,
          2.13,
          2.13,
          2.13,
          1.98,
          2.06,
          1.96,
          1.85,
          2.01,
          2.03,
          1.98,
          1.91,
          1.96,
          1.98,
          2.08,
          2.06,
          1.93,
          2.01,
          1.91,
          2.03,
          1.98,
          1.98,
          1.98,
          2.03,
          1.93,
          2.01,
          2.11,
          2.01,
          2.03,
          2.08,
          1.85,
          1.85,
          1.91,
          1.93,
          1.98,
          1.85,
          2.01,
          2.03,
          2.13,
          2.06,
          1.93,
          2.08,
          1.98,
          2.06,
          2.06,
          2.03,
          1.98,
          1.96,
          2.13,
          2.06,
          1.88,
          2.08,
          2.11,
          2.16,
          2.08,
          2.01,
          2.08,
          1.85,
          1.88,
          2.13,
          2.13,
          1.98,
          2.11,
          2.03,
          1.8,
          1.78,
          2.08,
          2.08,
          1.91,
          1.98,
          1.85,
          1.96,
          1.98,
          2.13,
          2.08,
          1.98,
          2.03,
          2.03,
          2.01,
          2.06,
          2.11,
          2.03,
          2.13,
          1.98,
          2.01,
          2.13,
          1.93,
          1.91,
          2.08,
          1.91,
          2.08,
          1.91,
          2.01,
          1.85,
          1.93,
          2.03,
          1.75,
          1.91,
          2.03,
          1.96,
          1.93,
          2.16,
          2.08,
          1.93,
          1.96,
          2.03,
          1.98,
          2.03,
          1.96,
          1.91,
          1.93,
          1.88,
          1.96,
          2.06,
          2.03,
          1.91,
          1.98,
          2.08,
          2.01,
          1.96,
          2.01,
          2.06,
          2.03,
          2.13,
          2.06,
          2.24,
          1.85,
          1.85,
          1.91,
          2.03,
          1.83,
          2.01,
          2.01,
          2.01,
          2.08,
          1.93,
          2.06,
          2.06,
          2.03,
          2.06,
          2.01,
          1.98,
          2.11,
          1.96,
          1.85,
          2.01,
          1.88,
          2.03,
          1.83,
          1.91,
          2.11,
          2.01,
          2.01,
          1.91,
          1.98,
          1.91,
          2.08,
          2.08,
          2.01,
          1.91,
          2.11,
          2.06,
          2.06,
          1.91,
          2.08,
          1.98,
          1.93,
          2.03,
          2.08,
          2.11,
          2.03,
          2.01,
          1.98,
          1.96,
          2.03,
          1.96,
          1.93,
          1.98,
          1.98,
          1.96,
          2.13,
          1.96,
          1.91,
          1.98,
          2.01,
          2.01,
          1.83,
          1.98,
          1.98,
          1.83,
          2.01,
          2.11,
          1.98,
          2.08,
          1.93,
          1.96,
          1.93,
          1.98,
          1.93,
          1.98,
          1.83,
          1.98,
          2.03,
          1.96,
          1.98,
          1.96,
          1.91,
          2.08,
          1.96,
          2.13,
          2.03,
          2.03,
          2.06,
          1.96,
          1.93,
          1.93,
          1.96,
          1.93,
          1.93,
          1.98,
          2.08,
          1.83,
          1.85,
          1.98,
          2.01,
          1.98,
          1.88,
          1.96,
          2.13,
          2.01,
          1.93,
          1.98,
          1.85,
          2.01,
          1.88,
          1.91,
          1.91,
          2.03,
          2.08,
          2.03,
          1.93,
          1.98,
          2.11,
          2.01,
          1.91,
          1.93,
          1.98,
          2.11,
          1.88,
          1.98,
          1.96,
          2.03,
          1.96,
          2.03,
          1.96,
          2.08,
          1.96,
          1.93,
          2.06,
          1.85,
          2.08,
          1.93,
          1.98,
          2.08,
          1.96,
          1.91,
          2.18,
          1.8,
          1.91,
          2.06,
          1.91,
          1.93,
          2.01,
          1.93,
          1.96,
          2.11,
          1.96,
          2.06,
          2.08,
          1.98,
          1.8,
          2.03,
          1.96,
          2.06,
          2.03,
          2.03,
          2.08,
          1.96,
          1.96,
          1.98,
          2.01,
          2.08,
          2.06,
          2.01,
          2.03,
          1.96,
          2.11,
          2.06,
          2.06,
          1.96,
          1.93,
          1.93,
          2.03,
          1.98,
          2.06,
          1.98,
          1.93,
          2.01,
          2.08,
          1.85,
          2.06,
          1.91,
          1.96,
          1.98,
          1.96,
          2.01,
          1.96,
          1.96,
          2.01,
          2.03,
          2.13,
          1.96,
          1.83,
          1.91,
          2.08,
          1.91,
          2.01
         ],
         "yaxis": "y3"
        },
        {
         "boxpoints": "all",
         "name": "rating",
         "type": "box",
         "xaxis": "x4",
         "y": [
          97,
          97,
          96,
          96,
          96,
          95,
          94,
          93,
          92,
          91,
          91,
          90,
          90,
          89,
          89,
          88,
          88,
          88,
          88,
          88,
          87,
          87,
          87,
          87,
          87,
          87,
          87,
          87,
          87,
          87,
          87,
          86,
          86,
          86,
          86,
          86,
          86,
          86,
          86,
          85,
          85,
          85,
          85,
          85,
          85,
          85,
          85,
          85,
          85,
          84,
          84,
          84,
          84,
          84,
          83,
          83,
          83,
          83,
          83,
          83,
          83,
          83,
          83,
          82,
          82,
          82,
          82,
          82,
          82,
          82,
          82,
          81,
          81,
          81,
          81,
          81,
          81,
          81,
          81,
          81,
          80,
          80,
          80,
          80,
          80,
          80,
          80,
          80,
          80,
          80,
          79,
          79,
          79,
          79,
          79,
          79,
          79,
          79,
          79,
          79,
          79,
          79,
          79,
          79,
          79,
          79,
          79,
          79,
          79,
          79,
          79,
          79,
          78,
          78,
          78,
          78,
          78,
          78,
          78,
          78,
          78,
          78,
          78,
          78,
          78,
          78,
          78,
          78,
          78,
          78,
          78,
          78,
          78,
          78,
          78,
          78,
          78,
          77,
          77,
          77,
          77,
          77,
          77,
          77,
          77,
          77,
          77,
          77,
          77,
          77,
          77,
          77,
          77,
          77,
          77,
          77,
          77,
          77,
          77,
          77,
          77,
          77,
          77,
          77,
          76,
          76,
          76,
          76,
          76,
          76,
          76,
          76,
          76,
          76,
          76,
          76,
          76,
          76,
          76,
          76,
          76,
          76,
          76,
          76,
          76,
          76,
          76,
          76,
          76,
          76,
          76,
          76,
          76,
          76,
          76,
          76,
          76,
          76,
          76,
          76,
          76,
          76,
          76,
          75,
          75,
          75,
          75,
          75,
          75,
          75,
          75,
          75,
          75,
          75,
          75,
          75,
          75,
          75,
          75,
          75,
          75,
          75,
          75,
          75,
          75,
          75,
          75,
          75,
          75,
          75,
          75,
          75,
          75,
          75,
          75,
          75,
          75,
          75,
          74,
          74,
          74,
          74,
          74,
          74,
          74,
          74,
          74,
          74,
          74,
          74,
          74,
          74,
          74,
          74,
          74,
          74,
          74,
          74,
          74,
          74,
          74,
          74,
          74,
          74,
          74,
          74,
          74,
          74,
          74,
          74,
          74,
          74,
          74,
          73,
          73,
          73,
          73,
          73,
          73,
          73,
          73,
          73,
          73,
          73,
          73,
          73,
          73,
          73,
          73,
          73,
          73,
          73,
          73,
          73,
          73,
          73,
          73,
          73,
          73,
          73,
          73,
          73,
          73,
          73,
          73,
          73,
          73,
          73,
          73,
          73,
          73,
          73,
          73,
          73,
          73,
          73,
          72,
          72,
          72,
          72,
          72,
          72,
          72,
          72,
          72,
          72,
          72,
          72,
          72,
          72,
          72,
          72,
          72,
          72,
          72,
          72,
          72,
          72,
          72,
          72,
          72,
          72,
          72,
          72,
          72,
          72,
          72,
          72,
          72,
          72,
          72,
          72,
          72,
          72,
          72,
          72,
          72,
          72,
          72,
          72,
          71,
          71,
          71,
          71,
          71,
          71,
          71,
          71,
          71,
          71,
          71,
          71,
          71,
          71,
          71,
          71,
          71,
          71,
          71,
          71,
          71,
          71,
          71,
          71,
          71,
          71,
          70,
          70,
          70,
          70,
          70,
          70,
          70,
          70,
          70,
          70,
          70,
          70,
          70,
          70,
          70,
          70,
          70,
          70,
          70,
          70,
          70,
          70,
          70,
          70,
          69,
          69,
          69,
          69,
          69,
          69,
          69,
          69,
          69,
          69,
          69,
          68,
          68,
          68,
          68,
          68,
          68,
          68,
          67
         ],
         "yaxis": "y4"
        }
       ],
       "layout": {
        "height": 1000,
        "template": {
         "data": {
          "bar": [
           {
            "error_x": {
             "color": "#2a3f5f"
            },
            "error_y": {
             "color": "#2a3f5f"
            },
            "marker": {
             "line": {
              "color": "#E5ECF6",
              "width": 0.5
             }
            },
            "type": "bar"
           }
          ],
          "barpolar": [
           {
            "marker": {
             "line": {
              "color": "#E5ECF6",
              "width": 0.5
             }
            },
            "type": "barpolar"
           }
          ],
          "carpet": [
           {
            "aaxis": {
             "endlinecolor": "#2a3f5f",
             "gridcolor": "white",
             "linecolor": "white",
             "minorgridcolor": "white",
             "startlinecolor": "#2a3f5f"
            },
            "baxis": {
             "endlinecolor": "#2a3f5f",
             "gridcolor": "white",
             "linecolor": "white",
             "minorgridcolor": "white",
             "startlinecolor": "#2a3f5f"
            },
            "type": "carpet"
           }
          ],
          "choropleth": [
           {
            "colorbar": {
             "outlinewidth": 0,
             "ticks": ""
            },
            "type": "choropleth"
           }
          ],
          "contour": [
           {
            "colorbar": {
             "outlinewidth": 0,
             "ticks": ""
            },
            "colorscale": [
             [
              0,
              "#0d0887"
             ],
             [
              0.1111111111111111,
              "#46039f"
             ],
             [
              0.2222222222222222,
              "#7201a8"
             ],
             [
              0.3333333333333333,
              "#9c179e"
             ],
             [
              0.4444444444444444,
              "#bd3786"
             ],
             [
              0.5555555555555556,
              "#d8576b"
             ],
             [
              0.6666666666666666,
              "#ed7953"
             ],
             [
              0.7777777777777778,
              "#fb9f3a"
             ],
             [
              0.8888888888888888,
              "#fdca26"
             ],
             [
              1,
              "#f0f921"
             ]
            ],
            "type": "contour"
           }
          ],
          "contourcarpet": [
           {
            "colorbar": {
             "outlinewidth": 0,
             "ticks": ""
            },
            "type": "contourcarpet"
           }
          ],
          "heatmap": [
           {
            "colorbar": {
             "outlinewidth": 0,
             "ticks": ""
            },
            "colorscale": [
             [
              0,
              "#0d0887"
             ],
             [
              0.1111111111111111,
              "#46039f"
             ],
             [
              0.2222222222222222,
              "#7201a8"
             ],
             [
              0.3333333333333333,
              "#9c179e"
             ],
             [
              0.4444444444444444,
              "#bd3786"
             ],
             [
              0.5555555555555556,
              "#d8576b"
             ],
             [
              0.6666666666666666,
              "#ed7953"
             ],
             [
              0.7777777777777778,
              "#fb9f3a"
             ],
             [
              0.8888888888888888,
              "#fdca26"
             ],
             [
              1,
              "#f0f921"
             ]
            ],
            "type": "heatmap"
           }
          ],
          "heatmapgl": [
           {
            "colorbar": {
             "outlinewidth": 0,
             "ticks": ""
            },
            "colorscale": [
             [
              0,
              "#0d0887"
             ],
             [
              0.1111111111111111,
              "#46039f"
             ],
             [
              0.2222222222222222,
              "#7201a8"
             ],
             [
              0.3333333333333333,
              "#9c179e"
             ],
             [
              0.4444444444444444,
              "#bd3786"
             ],
             [
              0.5555555555555556,
              "#d8576b"
             ],
             [
              0.6666666666666666,
              "#ed7953"
             ],
             [
              0.7777777777777778,
              "#fb9f3a"
             ],
             [
              0.8888888888888888,
              "#fdca26"
             ],
             [
              1,
              "#f0f921"
             ]
            ],
            "type": "heatmapgl"
           }
          ],
          "histogram": [
           {
            "marker": {
             "colorbar": {
              "outlinewidth": 0,
              "ticks": ""
             }
            },
            "type": "histogram"
           }
          ],
          "histogram2d": [
           {
            "colorbar": {
             "outlinewidth": 0,
             "ticks": ""
            },
            "colorscale": [
             [
              0,
              "#0d0887"
             ],
             [
              0.1111111111111111,
              "#46039f"
             ],
             [
              0.2222222222222222,
              "#7201a8"
             ],
             [
              0.3333333333333333,
              "#9c179e"
             ],
             [
              0.4444444444444444,
              "#bd3786"
             ],
             [
              0.5555555555555556,
              "#d8576b"
             ],
             [
              0.6666666666666666,
              "#ed7953"
             ],
             [
              0.7777777777777778,
              "#fb9f3a"
             ],
             [
              0.8888888888888888,
              "#fdca26"
             ],
             [
              1,
              "#f0f921"
             ]
            ],
            "type": "histogram2d"
           }
          ],
          "histogram2dcontour": [
           {
            "colorbar": {
             "outlinewidth": 0,
             "ticks": ""
            },
            "colorscale": [
             [
              0,
              "#0d0887"
             ],
             [
              0.1111111111111111,
              "#46039f"
             ],
             [
              0.2222222222222222,
              "#7201a8"
             ],
             [
              0.3333333333333333,
              "#9c179e"
             ],
             [
              0.4444444444444444,
              "#bd3786"
             ],
             [
              0.5555555555555556,
              "#d8576b"
             ],
             [
              0.6666666666666666,
              "#ed7953"
             ],
             [
              0.7777777777777778,
              "#fb9f3a"
             ],
             [
              0.8888888888888888,
              "#fdca26"
             ],
             [
              1,
              "#f0f921"
             ]
            ],
            "type": "histogram2dcontour"
           }
          ],
          "mesh3d": [
           {
            "colorbar": {
             "outlinewidth": 0,
             "ticks": ""
            },
            "type": "mesh3d"
           }
          ],
          "parcoords": [
           {
            "line": {
             "colorbar": {
              "outlinewidth": 0,
              "ticks": ""
             }
            },
            "type": "parcoords"
           }
          ],
          "pie": [
           {
            "automargin": true,
            "type": "pie"
           }
          ],
          "scatter": [
           {
            "marker": {
             "colorbar": {
              "outlinewidth": 0,
              "ticks": ""
             }
            },
            "type": "scatter"
           }
          ],
          "scatter3d": [
           {
            "line": {
             "colorbar": {
              "outlinewidth": 0,
              "ticks": ""
             }
            },
            "marker": {
             "colorbar": {
              "outlinewidth": 0,
              "ticks": ""
             }
            },
            "type": "scatter3d"
           }
          ],
          "scattercarpet": [
           {
            "marker": {
             "colorbar": {
              "outlinewidth": 0,
              "ticks": ""
             }
            },
            "type": "scattercarpet"
           }
          ],
          "scattergeo": [
           {
            "marker": {
             "colorbar": {
              "outlinewidth": 0,
              "ticks": ""
             }
            },
            "type": "scattergeo"
           }
          ],
          "scattergl": [
           {
            "marker": {
             "colorbar": {
              "outlinewidth": 0,
              "ticks": ""
             }
            },
            "type": "scattergl"
           }
          ],
          "scattermapbox": [
           {
            "marker": {
             "colorbar": {
              "outlinewidth": 0,
              "ticks": ""
             }
            },
            "type": "scattermapbox"
           }
          ],
          "scatterpolar": [
           {
            "marker": {
             "colorbar": {
              "outlinewidth": 0,
              "ticks": ""
             }
            },
            "type": "scatterpolar"
           }
          ],
          "scatterpolargl": [
           {
            "marker": {
             "colorbar": {
              "outlinewidth": 0,
              "ticks": ""
             }
            },
            "type": "scatterpolargl"
           }
          ],
          "scatterternary": [
           {
            "marker": {
             "colorbar": {
              "outlinewidth": 0,
              "ticks": ""
             }
            },
            "type": "scatterternary"
           }
          ],
          "surface": [
           {
            "colorbar": {
             "outlinewidth": 0,
             "ticks": ""
            },
            "colorscale": [
             [
              0,
              "#0d0887"
             ],
             [
              0.1111111111111111,
              "#46039f"
             ],
             [
              0.2222222222222222,
              "#7201a8"
             ],
             [
              0.3333333333333333,
              "#9c179e"
             ],
             [
              0.4444444444444444,
              "#bd3786"
             ],
             [
              0.5555555555555556,
              "#d8576b"
             ],
             [
              0.6666666666666666,
              "#ed7953"
             ],
             [
              0.7777777777777778,
              "#fb9f3a"
             ],
             [
              0.8888888888888888,
              "#fdca26"
             ],
             [
              1,
              "#f0f921"
             ]
            ],
            "type": "surface"
           }
          ],
          "table": [
           {
            "cells": {
             "fill": {
              "color": "#EBF0F8"
             },
             "line": {
              "color": "white"
             }
            },
            "header": {
             "fill": {
              "color": "#C8D4E3"
             },
             "line": {
              "color": "white"
             }
            },
            "type": "table"
           }
          ]
         },
         "layout": {
          "annotationdefaults": {
           "arrowcolor": "#2a3f5f",
           "arrowhead": 0,
           "arrowwidth": 1
          },
          "autotypenumbers": "strict",
          "coloraxis": {
           "colorbar": {
            "outlinewidth": 0,
            "ticks": ""
           }
          },
          "colorscale": {
           "diverging": [
            [
             0,
             "#8e0152"
            ],
            [
             0.1,
             "#c51b7d"
            ],
            [
             0.2,
             "#de77ae"
            ],
            [
             0.3,
             "#f1b6da"
            ],
            [
             0.4,
             "#fde0ef"
            ],
            [
             0.5,
             "#f7f7f7"
            ],
            [
             0.6,
             "#e6f5d0"
            ],
            [
             0.7,
             "#b8e186"
            ],
            [
             0.8,
             "#7fbc41"
            ],
            [
             0.9,
             "#4d9221"
            ],
            [
             1,
             "#276419"
            ]
           ],
           "sequential": [
            [
             0,
             "#0d0887"
            ],
            [
             0.1111111111111111,
             "#46039f"
            ],
            [
             0.2222222222222222,
             "#7201a8"
            ],
            [
             0.3333333333333333,
             "#9c179e"
            ],
            [
             0.4444444444444444,
             "#bd3786"
            ],
            [
             0.5555555555555556,
             "#d8576b"
            ],
            [
             0.6666666666666666,
             "#ed7953"
            ],
            [
             0.7777777777777778,
             "#fb9f3a"
            ],
            [
             0.8888888888888888,
             "#fdca26"
            ],
            [
             1,
             "#f0f921"
            ]
           ],
           "sequentialminus": [
            [
             0,
             "#0d0887"
            ],
            [
             0.1111111111111111,
             "#46039f"
            ],
            [
             0.2222222222222222,
             "#7201a8"
            ],
            [
             0.3333333333333333,
             "#9c179e"
            ],
            [
             0.4444444444444444,
             "#bd3786"
            ],
            [
             0.5555555555555556,
             "#d8576b"
            ],
            [
             0.6666666666666666,
             "#ed7953"
            ],
            [
             0.7777777777777778,
             "#fb9f3a"
            ],
            [
             0.8888888888888888,
             "#fdca26"
            ],
            [
             1,
             "#f0f921"
            ]
           ]
          },
          "colorway": [
           "#636efa",
           "#EF553B",
           "#00cc96",
           "#ab63fa",
           "#FFA15A",
           "#19d3f3",
           "#FF6692",
           "#B6E880",
           "#FF97FF",
           "#FECB52"
          ],
          "font": {
           "color": "#2a3f5f"
          },
          "geo": {
           "bgcolor": "white",
           "lakecolor": "white",
           "landcolor": "#E5ECF6",
           "showlakes": true,
           "showland": true,
           "subunitcolor": "white"
          },
          "hoverlabel": {
           "align": "left"
          },
          "hovermode": "closest",
          "mapbox": {
           "style": "light"
          },
          "paper_bgcolor": "white",
          "plot_bgcolor": "#E5ECF6",
          "polar": {
           "angularaxis": {
            "gridcolor": "white",
            "linecolor": "white",
            "ticks": ""
           },
           "bgcolor": "#E5ECF6",
           "radialaxis": {
            "gridcolor": "white",
            "linecolor": "white",
            "ticks": ""
           }
          },
          "scene": {
           "xaxis": {
            "backgroundcolor": "#E5ECF6",
            "gridcolor": "white",
            "gridwidth": 2,
            "linecolor": "white",
            "showbackground": true,
            "ticks": "",
            "zerolinecolor": "white"
           },
           "yaxis": {
            "backgroundcolor": "#E5ECF6",
            "gridcolor": "white",
            "gridwidth": 2,
            "linecolor": "white",
            "showbackground": true,
            "ticks": "",
            "zerolinecolor": "white"
           },
           "zaxis": {
            "backgroundcolor": "#E5ECF6",
            "gridcolor": "white",
            "gridwidth": 2,
            "linecolor": "white",
            "showbackground": true,
            "ticks": "",
            "zerolinecolor": "white"
           }
          },
          "shapedefaults": {
           "line": {
            "color": "#2a3f5f"
           }
          },
          "ternary": {
           "aaxis": {
            "gridcolor": "white",
            "linecolor": "white",
            "ticks": ""
           },
           "baxis": {
            "gridcolor": "white",
            "linecolor": "white",
            "ticks": ""
           },
           "bgcolor": "#E5ECF6",
           "caxis": {
            "gridcolor": "white",
            "linecolor": "white",
            "ticks": ""
           }
          },
          "title": {
           "x": 0.05
          },
          "xaxis": {
           "automargin": true,
           "gridcolor": "white",
           "linecolor": "white",
           "ticks": "",
           "title": {
            "standoff": 15
           },
           "zerolinecolor": "white",
           "zerolinewidth": 2
          },
          "yaxis": {
           "automargin": true,
           "gridcolor": "white",
           "linecolor": "white",
           "ticks": "",
           "title": {
            "standoff": 15
           },
           "zerolinecolor": "white",
           "zerolinewidth": 2
          }
         }
        },
        "xaxis": {
         "anchor": "y",
         "domain": [
          0,
          0.45
         ]
        },
        "xaxis2": {
         "anchor": "y2",
         "domain": [
          0.55,
          1
         ]
        },
        "xaxis3": {
         "anchor": "y3",
         "domain": [
          0,
          0.45
         ]
        },
        "xaxis4": {
         "anchor": "y4",
         "domain": [
          0.55,
          1
         ]
        },
        "yaxis": {
         "anchor": "x",
         "domain": [
          0.575,
          1
         ]
        },
        "yaxis2": {
         "anchor": "x2",
         "domain": [
          0.575,
          1
         ]
        },
        "yaxis3": {
         "anchor": "x3",
         "domain": [
          0,
          0.425
         ]
        },
        "yaxis4": {
         "anchor": "x4",
         "domain": [
          0,
          0.425
         ]
        }
       }
      },
      "text/html": [
       "<div>                            <div id=\"4e61b2d5-9421-47c6-85b4-d2b71169fdd9\" class=\"plotly-graph-div\" style=\"height:1000px; width:100%;\"></div>            <script type=\"text/javascript\">                require([\"plotly\"], function(Plotly) {                    window.PLOTLYENV=window.PLOTLYENV || {};                                    if (document.getElementById(\"4e61b2d5-9421-47c6-85b4-d2b71169fdd9\")) {                    Plotly.newPlot(                        \"4e61b2d5-9421-47c6-85b4-d2b71169fdd9\",                        [{\"boxpoints\": \"all\", \"name\": \"age\", \"type\": \"box\", \"xaxis\": \"x\", \"y\": [36, 29, 26, 32, 31, 33, 28, 31, 30, 27, 29, 26, 32, 31, 25, 31, 28, 32, 24, 31, 22, 35, 27, 33, 31, 29, 29, 25, 25, 27, 24, 23, 24, 30, 27, 31, 30, 30, 30, 23, 22, 31, 27, 28, 34, 26, 35, 29, 36, 23, 27, 25, 24, 34, 22, 32, 28, 32, 27, 32, 23, 26, 26, 36, 27, 22, 28, 21, 36, 27, 25, 31, 20, 34, 25, 23, 32, 25, 29, 31, 32, 30, 29, 31, 31, 28, 27, 36, 27, 27, 21, 23, 23, 23, 28, 32, 24, 27, 35, 22, 26, 33, 28, 33, 33, 23, 30, 30, 36, 27, 26, 32, 20, 30, 30, 28, 23, 22, 28, 28, 32, 30, 29, 37, 26, 31, 24, 28, 30, 25, 26, 26, 27, 27, 32, 26, 25, 20, 23, 30, 23, 32, 24, 33, 34, 31, 35, 27, 33, 29, 27, 25, 25, 27, 31, 25, 29, 27, 27, 22, 23, 28, 24, 22, 26, 35, 33, 36, 32, 28, 30, 23, 24, 28, 30, 31, 31, 35, 34, 28, 22, 34, 23, 24, 28, 27, 21, 29, 34, 25, 25, 27, 22, 28, 29, 35, 24, 29, 32, 29, 34, 29, 21, 40, 34, 31, 35, 28, 24, 34, 27, 27, 33, 27, 26, 30, 26, 35, 26, 27, 34, 24, 40, 23, 27, 33, 25, 32, 29, 32, 23, 31, 29, 26, 29, 32, 25, 25, 25, 27, 26, 28, 25, 30, 23, 28, 28, 30, 30, 24, 28, 22, 23, 28, 26, 29, 24, 29, 29, 24, 29, 32, 36, 31, 32, 27, 24, 27, 27, 23, 25, 20, 23, 23, 25, 26, 25, 26, 24, 21, 29, 27, 38, 29, 30, 30, 28, 27, 24, 27, 24, 25, 23, 34, 34, 29, 22, 28, 27, 26, 22, 31, 32, 29, 23, 35, 32, 22, 31, 24, 21, 27, 20, 24, 30, 21, 25, 24, 29, 29, 24, 35, 28, 30, 29, 32, 25, 26, 29, 35, 24, 25, 29, 31, 29, 27, 26, 21, 21, 35, 25, 28, 21, 22, 31, 22, 27, 21, 30, 21, 22, 26, 22, 22, 24, 25, 23, 21, 21, 26, 28, 25, 24, 23, 23, 22, 27, 23, 25, 27, 28, 22, 23, 24, 28, 25, 22, 24, 24, 22, 20, 24, 23, 22, 24, 24, 25, 20, 23, 22, 24, 30, 25, 25, 25, 23, 26, 27, 32, 24, 22, 26, 21, 20, 24, 28, 21, 22, 29, 24, 24, 26, 28, 25, 25, 26, 24, 26, 26, 23, 28, 21, 23, 30, 25, 27, 23, 20, 27], \"yaxis\": \"y\"}, {\"boxpoints\": \"all\", \"name\": \"weight\", \"type\": \"box\", \"xaxis\": \"x2\", \"y\": [113.4, 102.1, 109.8, 104.3, 99.8, 83.9, 100.7, 95.3, 88.5, 113.4, 81.6, 114.8, 86.2, 93.0, 112.5, 99.8, 108.0, 114.3, 95.7, 78.0, 103.0, 111.6, 93.9, 83.9, 99.8, 89.4, 96.6, 99.8, 87.5, 103.0, 108.9, 77.6, 93.4, 122.5, 122.5, 104.3, 81.6, 108.9, 88.5, 92.5, 81.6, 88.5, 95.7, 102.5, 111.6, 82.1, 93.0, 98.4, 79.4, 102.1, 96.2, 100.2, 91.2, 79.4, 106.6, 98.0, 101.2, 102.1, 114.8, 117.9, 108.9, 131.5, 113.4, 120.2, 115.7, 113.4, 93.0, 110.0, 113.4, 103.0, 108.4, 108.9, 128.8, 104.3, 99.8, 88.9, 120.2, 104.8, 104.8, 106.6, 86.2, 94.8, 111.6, 93.9, 94.3, 118.8, 89.8, 86.2, 90.7, 99.8, 78.9, 110.2, 106.1, 86.2, 95.3, 81.6, 101.2, 109.8, 86.2, 81.6, 93.0, 94.8, 81.6, 120.2, 122.5, 101.2, 93.4, 102.1, 102.1, 89.4, 89.4, 99.8, 91.6, 81.6, 79.4, 93.0, 109.3, 117.5, 84.4, 86.2, 97.5, 99.8, 97.5, 93.9, 86.6, 106.6, 77.1, 103.0, 106.1, 92.1, 106.6, 111.6, 86.2, 78.0, 82.1, 90.7, 100.7, 79.4, 102.1, 97.5, 102.1, 95.3, 89.8, 101.6, 96.2, 97.5, 102.1, 97.1, 94.8, 90.3, 102.1, 100.7, 79.4, 93.4, 108.0, 108.4, 106.1, 99.8, 98.0, 86.2, 88.5, 104.3, 120.2, 88.5, 115.7, 95.3, 81.6, 79.4, 106.6, 95.7, 88.5, 102.1, 86.2, 92.5, 106.6, 108.4, 104.3, 87.1, 106.6, 94.3, 86.2, 106.6, 93.0, 92.1, 104.8, 105.2, 97.5, 111.1, 99.8, 86.2, 122.5, 83.9, 97.5, 90.7, 93.4, 84.4, 81.6, 97.5, 83.9, 95.3, 108.9, 82.1, 83.9, 113.4, 117.9, 88.5, 90.7, 103.9, 94.8, 102.1, 91.6, 93.0, 90.7, 84.8, 92.5, 99.8, 91.2, 81.6, 95.7, 110.2, 111.1, 88.9, 96.2, 97.5, 94.8, 115.7, 109.3, 131.5, 90.7, 83.9, 89.4, 111.1, 79.4, 97.5, 89.8, 107.5, 112.0, 90.7, 99.8, 104.3, 101.6, 94.8, 102.1, 90.7, 105.2, 97.5, 81.6, 97.5, 81.6, 99.3, 80.7, 88.5, 105.2, 94.3, 91.2, 84.4, 88.5, 83.9, 95.7, 100.7, 98.9, 86.6, 103.0, 108.9, 90.7, 97.5, 99.8, 95.7, 95.3, 107.5, 98.0, 99.8, 102.1, 105.2, 99.8, 93.9, 97.5, 104.3, 86.2, 97.5, 88.5, 84.4, 106.6, 89.4, 86.2, 91.2, 96.6, 86.2, 83.9, 99.8, 109.8, 83.9, 83.9, 104.3, 105.2, 104.3, 86.2, 95.3, 102.5, 106.6, 96.6, 88.5, 79.4, 89.8, 111.1, 88.5, 93.0, 92.5, 95.3, 113.4, 88.5, 106.6, 94.8, 97.5, 107.0, 99.8, 93.0, 89.4, 83.5, 90.7, 93.0, 102.1, 122.5, 77.1, 91.6, 81.6, 88.9, 93.0, 85.7, 90.7, 98.0, 82.1, 93.0, 102.1, 77.1, 104.3, 81.6, 82.1, 93.0, 108.9, 106.1, 97.5, 98.0, 107.0, 97.5, 102.1, 88.5, 98.9, 97.5, 113.4, 86.2, 95.3, 93.0, 104.0, 91.2, 95.3, 88.5, 94.8, 95.7, 89.4, 90.7, 90.7, 108.9, 95.3, 83.5, 106.1, 99.3, 93.0, 108.9, 86.2, 85.7, 88.5, 86.2, 86.2, 101.2, 84.4, 94.8, 108.9, 109.3, 111.1, 97.5, 115.7, 90.7, 97.5, 93.0, 102.1, 106.6, 90.7, 112.5, 89.8, 91.2, 102.5, 91.2, 98.0, 99.8, 93.0, 104.3, 102.1, 115.7, 112.9, 97.1, 91.2, 88.0, 106.1, 108.9, 97.5, 112.9, 98.0, 108.9, 86.2, 109.8, 83.9, 101.6, 95.3, 99.8, 102.1, 97.5, 102.1, 90.7, 95.3, 93.0, 90.7, 113.4, 81.2, 81.6, 90.7, 90.7, 86.2, 97.5], \"yaxis\": \"y2\"}, {\"boxpoints\": \"all\", \"name\": \"height\", \"type\": \"box\", \"xaxis\": \"x3\", \"y\": [2.06, 2.01, 2.11, 2.08, 1.96, 1.91, 2.08, 2.03, 1.88, 2.13, 1.88, 2.13, 1.91, 1.98, 2.11, 2.01, 2.16, 2.06, 1.85, 1.83, 2.01, 2.11, 1.91, 1.85, 1.98, 1.91, 1.93, 2.21, 1.93, 2.06, 2.08, 1.91, 1.96, 2.08, 2.08, 1.98, 1.91, 2.11, 1.93, 2.03, 1.85, 1.85, 2.08, 2.03, 2.06, 1.98, 1.83, 2.01, 1.85, 2.06, 1.93, 2.03, 1.93, 1.85, 2.11, 2.03, 1.96, 2.08, 2.01, 2.03, 2.13, 2.13, 2.03, 2.11, 2.11, 2.11, 1.96, 2.11, 2.01, 1.91, 2.11, 2.13, 1.98, 2.03, 2.03, 2.01, 2.11, 2.11, 2.11, 2.13, 1.88, 2.01, 2.06, 2.01, 1.91, 2.08, 2.03, 1.91, 1.96, 2.03, 1.91, 2.06, 2.11, 1.98, 2.03, 1.85, 1.98, 2.13, 1.91, 1.96, 1.93, 2.01, 1.96, 2.13, 2.13, 2.13, 1.98, 2.06, 1.96, 1.85, 2.01, 2.03, 1.98, 1.91, 1.96, 1.98, 2.08, 2.06, 1.93, 2.01, 1.91, 2.03, 1.98, 1.98, 1.98, 2.03, 1.93, 2.01, 2.11, 2.01, 2.03, 2.08, 1.85, 1.85, 1.91, 1.93, 1.98, 1.85, 2.01, 2.03, 2.13, 2.06, 1.93, 2.08, 1.98, 2.06, 2.06, 2.03, 1.98, 1.96, 2.13, 2.06, 1.88, 2.08, 2.11, 2.16, 2.08, 2.01, 2.08, 1.85, 1.88, 2.13, 2.13, 1.98, 2.11, 2.03, 1.8, 1.78, 2.08, 2.08, 1.91, 1.98, 1.85, 1.96, 1.98, 2.13, 2.08, 1.98, 2.03, 2.03, 2.01, 2.06, 2.11, 2.03, 2.13, 1.98, 2.01, 2.13, 1.93, 1.91, 2.08, 1.91, 2.08, 1.91, 2.01, 1.85, 1.93, 2.03, 1.75, 1.91, 2.03, 1.96, 1.93, 2.16, 2.08, 1.93, 1.96, 2.03, 1.98, 2.03, 1.96, 1.91, 1.93, 1.88, 1.96, 2.06, 2.03, 1.91, 1.98, 2.08, 2.01, 1.96, 2.01, 2.06, 2.03, 2.13, 2.06, 2.24, 1.85, 1.85, 1.91, 2.03, 1.83, 2.01, 2.01, 2.01, 2.08, 1.93, 2.06, 2.06, 2.03, 2.06, 2.01, 1.98, 2.11, 1.96, 1.85, 2.01, 1.88, 2.03, 1.83, 1.91, 2.11, 2.01, 2.01, 1.91, 1.98, 1.91, 2.08, 2.08, 2.01, 1.91, 2.11, 2.06, 2.06, 1.91, 2.08, 1.98, 1.93, 2.03, 2.08, 2.11, 2.03, 2.01, 1.98, 1.96, 2.03, 1.96, 1.93, 1.98, 1.98, 1.96, 2.13, 1.96, 1.91, 1.98, 2.01, 2.01, 1.83, 1.98, 1.98, 1.83, 2.01, 2.11, 1.98, 2.08, 1.93, 1.96, 1.93, 1.98, 1.93, 1.98, 1.83, 1.98, 2.03, 1.96, 1.98, 1.96, 1.91, 2.08, 1.96, 2.13, 2.03, 2.03, 2.06, 1.96, 1.93, 1.93, 1.96, 1.93, 1.93, 1.98, 2.08, 1.83, 1.85, 1.98, 2.01, 1.98, 1.88, 1.96, 2.13, 2.01, 1.93, 1.98, 1.85, 2.01, 1.88, 1.91, 1.91, 2.03, 2.08, 2.03, 1.93, 1.98, 2.11, 2.01, 1.91, 1.93, 1.98, 2.11, 1.88, 1.98, 1.96, 2.03, 1.96, 2.03, 1.96, 2.08, 1.96, 1.93, 2.06, 1.85, 2.08, 1.93, 1.98, 2.08, 1.96, 1.91, 2.18, 1.8, 1.91, 2.06, 1.91, 1.93, 2.01, 1.93, 1.96, 2.11, 1.96, 2.06, 2.08, 1.98, 1.8, 2.03, 1.96, 2.06, 2.03, 2.03, 2.08, 1.96, 1.96, 1.98, 2.01, 2.08, 2.06, 2.01, 2.03, 1.96, 2.11, 2.06, 2.06, 1.96, 1.93, 1.93, 2.03, 1.98, 2.06, 1.98, 1.93, 2.01, 2.08, 1.85, 2.06, 1.91, 1.96, 1.98, 1.96, 2.01, 1.96, 1.96, 2.01, 2.03, 2.13, 1.96, 1.83, 1.91, 2.08, 1.91, 2.01], \"yaxis\": \"y3\"}, {\"boxpoints\": \"all\", \"name\": \"rating\", \"type\": \"box\", \"xaxis\": \"x4\", \"y\": [97, 97, 96, 96, 96, 95, 94, 93, 92, 91, 91, 90, 90, 89, 89, 88, 88, 88, 88, 88, 87, 87, 87, 87, 87, 87, 87, 87, 87, 87, 87, 86, 86, 86, 86, 86, 86, 86, 86, 85, 85, 85, 85, 85, 85, 85, 85, 85, 85, 84, 84, 84, 84, 84, 83, 83, 83, 83, 83, 83, 83, 83, 83, 82, 82, 82, 82, 82, 82, 82, 82, 81, 81, 81, 81, 81, 81, 81, 81, 81, 80, 80, 80, 80, 80, 80, 80, 80, 80, 80, 79, 79, 79, 79, 79, 79, 79, 79, 79, 79, 79, 79, 79, 79, 79, 79, 79, 79, 79, 79, 79, 79, 78, 78, 78, 78, 78, 78, 78, 78, 78, 78, 78, 78, 78, 78, 78, 78, 78, 78, 78, 78, 78, 78, 78, 78, 78, 77, 77, 77, 77, 77, 77, 77, 77, 77, 77, 77, 77, 77, 77, 77, 77, 77, 77, 77, 77, 77, 77, 77, 77, 77, 77, 77, 76, 76, 76, 76, 76, 76, 76, 76, 76, 76, 76, 76, 76, 76, 76, 76, 76, 76, 76, 76, 76, 76, 76, 76, 76, 76, 76, 76, 76, 76, 76, 76, 76, 76, 76, 76, 76, 76, 76, 75, 75, 75, 75, 75, 75, 75, 75, 75, 75, 75, 75, 75, 75, 75, 75, 75, 75, 75, 75, 75, 75, 75, 75, 75, 75, 75, 75, 75, 75, 75, 75, 75, 75, 75, 74, 74, 74, 74, 74, 74, 74, 74, 74, 74, 74, 74, 74, 74, 74, 74, 74, 74, 74, 74, 74, 74, 74, 74, 74, 74, 74, 74, 74, 74, 74, 74, 74, 74, 74, 73, 73, 73, 73, 73, 73, 73, 73, 73, 73, 73, 73, 73, 73, 73, 73, 73, 73, 73, 73, 73, 73, 73, 73, 73, 73, 73, 73, 73, 73, 73, 73, 73, 73, 73, 73, 73, 73, 73, 73, 73, 73, 73, 72, 72, 72, 72, 72, 72, 72, 72, 72, 72, 72, 72, 72, 72, 72, 72, 72, 72, 72, 72, 72, 72, 72, 72, 72, 72, 72, 72, 72, 72, 72, 72, 72, 72, 72, 72, 72, 72, 72, 72, 72, 72, 72, 72, 71, 71, 71, 71, 71, 71, 71, 71, 71, 71, 71, 71, 71, 71, 71, 71, 71, 71, 71, 71, 71, 71, 71, 71, 71, 71, 70, 70, 70, 70, 70, 70, 70, 70, 70, 70, 70, 70, 70, 70, 70, 70, 70, 70, 70, 70, 70, 70, 70, 70, 69, 69, 69, 69, 69, 69, 69, 69, 69, 69, 69, 68, 68, 68, 68, 68, 68, 68, 67], \"yaxis\": \"y4\"}],                        {\"height\": 1000, \"template\": {\"data\": {\"bar\": [{\"error_x\": {\"color\": \"#2a3f5f\"}, \"error_y\": {\"color\": \"#2a3f5f\"}, \"marker\": {\"line\": {\"color\": \"#E5ECF6\", \"width\": 0.5}}, \"type\": \"bar\"}], \"barpolar\": [{\"marker\": {\"line\": {\"color\": \"#E5ECF6\", \"width\": 0.5}}, \"type\": \"barpolar\"}], \"carpet\": [{\"aaxis\": {\"endlinecolor\": \"#2a3f5f\", \"gridcolor\": \"white\", \"linecolor\": \"white\", \"minorgridcolor\": \"white\", \"startlinecolor\": \"#2a3f5f\"}, \"baxis\": {\"endlinecolor\": \"#2a3f5f\", \"gridcolor\": \"white\", \"linecolor\": \"white\", \"minorgridcolor\": \"white\", \"startlinecolor\": \"#2a3f5f\"}, \"type\": \"carpet\"}], \"choropleth\": [{\"colorbar\": {\"outlinewidth\": 0, \"ticks\": \"\"}, \"type\": \"choropleth\"}], \"contour\": [{\"colorbar\": {\"outlinewidth\": 0, \"ticks\": \"\"}, \"colorscale\": [[0.0, \"#0d0887\"], [0.1111111111111111, \"#46039f\"], [0.2222222222222222, \"#7201a8\"], [0.3333333333333333, \"#9c179e\"], [0.4444444444444444, \"#bd3786\"], [0.5555555555555556, \"#d8576b\"], [0.6666666666666666, \"#ed7953\"], [0.7777777777777778, \"#fb9f3a\"], [0.8888888888888888, \"#fdca26\"], [1.0, \"#f0f921\"]], \"type\": \"contour\"}], \"contourcarpet\": [{\"colorbar\": {\"outlinewidth\": 0, \"ticks\": \"\"}, \"type\": \"contourcarpet\"}], \"heatmap\": [{\"colorbar\": {\"outlinewidth\": 0, \"ticks\": \"\"}, \"colorscale\": [[0.0, \"#0d0887\"], [0.1111111111111111, \"#46039f\"], [0.2222222222222222, \"#7201a8\"], [0.3333333333333333, \"#9c179e\"], [0.4444444444444444, \"#bd3786\"], [0.5555555555555556, \"#d8576b\"], [0.6666666666666666, \"#ed7953\"], [0.7777777777777778, \"#fb9f3a\"], [0.8888888888888888, \"#fdca26\"], [1.0, \"#f0f921\"]], \"type\": \"heatmap\"}], \"heatmapgl\": [{\"colorbar\": {\"outlinewidth\": 0, \"ticks\": \"\"}, \"colorscale\": [[0.0, \"#0d0887\"], [0.1111111111111111, \"#46039f\"], [0.2222222222222222, \"#7201a8\"], [0.3333333333333333, \"#9c179e\"], [0.4444444444444444, \"#bd3786\"], [0.5555555555555556, \"#d8576b\"], [0.6666666666666666, \"#ed7953\"], [0.7777777777777778, \"#fb9f3a\"], [0.8888888888888888, \"#fdca26\"], [1.0, \"#f0f921\"]], \"type\": \"heatmapgl\"}], \"histogram\": [{\"marker\": {\"colorbar\": {\"outlinewidth\": 0, \"ticks\": \"\"}}, \"type\": \"histogram\"}], \"histogram2d\": [{\"colorbar\": {\"outlinewidth\": 0, \"ticks\": \"\"}, \"colorscale\": [[0.0, \"#0d0887\"], [0.1111111111111111, \"#46039f\"], [0.2222222222222222, \"#7201a8\"], [0.3333333333333333, \"#9c179e\"], [0.4444444444444444, \"#bd3786\"], [0.5555555555555556, \"#d8576b\"], [0.6666666666666666, \"#ed7953\"], [0.7777777777777778, \"#fb9f3a\"], [0.8888888888888888, \"#fdca26\"], [1.0, \"#f0f921\"]], \"type\": \"histogram2d\"}], \"histogram2dcontour\": [{\"colorbar\": {\"outlinewidth\": 0, \"ticks\": \"\"}, \"colorscale\": [[0.0, \"#0d0887\"], [0.1111111111111111, \"#46039f\"], [0.2222222222222222, \"#7201a8\"], [0.3333333333333333, \"#9c179e\"], [0.4444444444444444, \"#bd3786\"], [0.5555555555555556, \"#d8576b\"], [0.6666666666666666, \"#ed7953\"], [0.7777777777777778, \"#fb9f3a\"], [0.8888888888888888, \"#fdca26\"], [1.0, \"#f0f921\"]], \"type\": \"histogram2dcontour\"}], \"mesh3d\": [{\"colorbar\": {\"outlinewidth\": 0, \"ticks\": \"\"}, \"type\": \"mesh3d\"}], \"parcoords\": [{\"line\": {\"colorbar\": {\"outlinewidth\": 0, \"ticks\": \"\"}}, \"type\": \"parcoords\"}], \"pie\": [{\"automargin\": true, \"type\": \"pie\"}], \"scatter\": [{\"marker\": {\"colorbar\": {\"outlinewidth\": 0, \"ticks\": \"\"}}, \"type\": \"scatter\"}], \"scatter3d\": [{\"line\": {\"colorbar\": {\"outlinewidth\": 0, \"ticks\": \"\"}}, \"marker\": {\"colorbar\": {\"outlinewidth\": 0, \"ticks\": \"\"}}, \"type\": \"scatter3d\"}], \"scattercarpet\": [{\"marker\": {\"colorbar\": {\"outlinewidth\": 0, \"ticks\": \"\"}}, \"type\": \"scattercarpet\"}], \"scattergeo\": [{\"marker\": {\"colorbar\": {\"outlinewidth\": 0, \"ticks\": \"\"}}, \"type\": \"scattergeo\"}], \"scattergl\": [{\"marker\": {\"colorbar\": {\"outlinewidth\": 0, \"ticks\": \"\"}}, \"type\": \"scattergl\"}], \"scattermapbox\": [{\"marker\": {\"colorbar\": {\"outlinewidth\": 0, \"ticks\": \"\"}}, \"type\": \"scattermapbox\"}], \"scatterpolar\": [{\"marker\": {\"colorbar\": {\"outlinewidth\": 0, \"ticks\": \"\"}}, \"type\": \"scatterpolar\"}], \"scatterpolargl\": [{\"marker\": {\"colorbar\": {\"outlinewidth\": 0, \"ticks\": \"\"}}, \"type\": \"scatterpolargl\"}], \"scatterternary\": [{\"marker\": {\"colorbar\": {\"outlinewidth\": 0, \"ticks\": \"\"}}, \"type\": \"scatterternary\"}], \"surface\": [{\"colorbar\": {\"outlinewidth\": 0, \"ticks\": \"\"}, \"colorscale\": [[0.0, \"#0d0887\"], [0.1111111111111111, \"#46039f\"], [0.2222222222222222, \"#7201a8\"], [0.3333333333333333, \"#9c179e\"], [0.4444444444444444, \"#bd3786\"], [0.5555555555555556, \"#d8576b\"], [0.6666666666666666, \"#ed7953\"], [0.7777777777777778, \"#fb9f3a\"], [0.8888888888888888, \"#fdca26\"], [1.0, \"#f0f921\"]], \"type\": \"surface\"}], \"table\": [{\"cells\": {\"fill\": {\"color\": \"#EBF0F8\"}, \"line\": {\"color\": \"white\"}}, \"header\": {\"fill\": {\"color\": \"#C8D4E3\"}, \"line\": {\"color\": \"white\"}}, \"type\": \"table\"}]}, \"layout\": {\"annotationdefaults\": {\"arrowcolor\": \"#2a3f5f\", \"arrowhead\": 0, \"arrowwidth\": 1}, \"autotypenumbers\": \"strict\", \"coloraxis\": {\"colorbar\": {\"outlinewidth\": 0, \"ticks\": \"\"}}, \"colorscale\": {\"diverging\": [[0, \"#8e0152\"], [0.1, \"#c51b7d\"], [0.2, \"#de77ae\"], [0.3, \"#f1b6da\"], [0.4, \"#fde0ef\"], [0.5, \"#f7f7f7\"], [0.6, \"#e6f5d0\"], [0.7, \"#b8e186\"], [0.8, \"#7fbc41\"], [0.9, \"#4d9221\"], [1, \"#276419\"]], \"sequential\": [[0.0, \"#0d0887\"], [0.1111111111111111, \"#46039f\"], [0.2222222222222222, \"#7201a8\"], [0.3333333333333333, \"#9c179e\"], [0.4444444444444444, \"#bd3786\"], [0.5555555555555556, \"#d8576b\"], [0.6666666666666666, \"#ed7953\"], [0.7777777777777778, \"#fb9f3a\"], [0.8888888888888888, \"#fdca26\"], [1.0, \"#f0f921\"]], \"sequentialminus\": [[0.0, \"#0d0887\"], [0.1111111111111111, \"#46039f\"], [0.2222222222222222, \"#7201a8\"], [0.3333333333333333, \"#9c179e\"], [0.4444444444444444, \"#bd3786\"], [0.5555555555555556, \"#d8576b\"], [0.6666666666666666, \"#ed7953\"], [0.7777777777777778, \"#fb9f3a\"], [0.8888888888888888, \"#fdca26\"], [1.0, \"#f0f921\"]]}, \"colorway\": [\"#636efa\", \"#EF553B\", \"#00cc96\", \"#ab63fa\", \"#FFA15A\", \"#19d3f3\", \"#FF6692\", \"#B6E880\", \"#FF97FF\", \"#FECB52\"], \"font\": {\"color\": \"#2a3f5f\"}, \"geo\": {\"bgcolor\": \"white\", \"lakecolor\": \"white\", \"landcolor\": \"#E5ECF6\", \"showlakes\": true, \"showland\": true, \"subunitcolor\": \"white\"}, \"hoverlabel\": {\"align\": \"left\"}, \"hovermode\": \"closest\", \"mapbox\": {\"style\": \"light\"}, \"paper_bgcolor\": \"white\", \"plot_bgcolor\": \"#E5ECF6\", \"polar\": {\"angularaxis\": {\"gridcolor\": \"white\", \"linecolor\": \"white\", \"ticks\": \"\"}, \"bgcolor\": \"#E5ECF6\", \"radialaxis\": {\"gridcolor\": \"white\", \"linecolor\": \"white\", \"ticks\": \"\"}}, \"scene\": {\"xaxis\": {\"backgroundcolor\": \"#E5ECF6\", \"gridcolor\": \"white\", \"gridwidth\": 2, \"linecolor\": \"white\", \"showbackground\": true, \"ticks\": \"\", \"zerolinecolor\": \"white\"}, \"yaxis\": {\"backgroundcolor\": \"#E5ECF6\", \"gridcolor\": \"white\", \"gridwidth\": 2, \"linecolor\": \"white\", \"showbackground\": true, \"ticks\": \"\", \"zerolinecolor\": \"white\"}, \"zaxis\": {\"backgroundcolor\": \"#E5ECF6\", \"gridcolor\": \"white\", \"gridwidth\": 2, \"linecolor\": \"white\", \"showbackground\": true, \"ticks\": \"\", \"zerolinecolor\": \"white\"}}, \"shapedefaults\": {\"line\": {\"color\": \"#2a3f5f\"}}, \"ternary\": {\"aaxis\": {\"gridcolor\": \"white\", \"linecolor\": \"white\", \"ticks\": \"\"}, \"baxis\": {\"gridcolor\": \"white\", \"linecolor\": \"white\", \"ticks\": \"\"}, \"bgcolor\": \"#E5ECF6\", \"caxis\": {\"gridcolor\": \"white\", \"linecolor\": \"white\", \"ticks\": \"\"}}, \"title\": {\"x\": 0.05}, \"xaxis\": {\"automargin\": true, \"gridcolor\": \"white\", \"linecolor\": \"white\", \"ticks\": \"\", \"title\": {\"standoff\": 15}, \"zerolinecolor\": \"white\", \"zerolinewidth\": 2}, \"yaxis\": {\"automargin\": true, \"gridcolor\": \"white\", \"linecolor\": \"white\", \"ticks\": \"\", \"title\": {\"standoff\": 15}, \"zerolinecolor\": \"white\", \"zerolinewidth\": 2}}}, \"xaxis\": {\"anchor\": \"y\", \"domain\": [0.0, 0.45]}, \"xaxis2\": {\"anchor\": \"y2\", \"domain\": [0.55, 1.0]}, \"xaxis3\": {\"anchor\": \"y3\", \"domain\": [0.0, 0.45]}, \"xaxis4\": {\"anchor\": \"y4\", \"domain\": [0.55, 1.0]}, \"yaxis\": {\"anchor\": \"x\", \"domain\": [0.575, 1.0]}, \"yaxis2\": {\"anchor\": \"x2\", \"domain\": [0.575, 1.0]}, \"yaxis3\": {\"anchor\": \"x3\", \"domain\": [0.0, 0.425]}, \"yaxis4\": {\"anchor\": \"x4\", \"domain\": [0.0, 0.425]}},                        {\"responsive\": true}                    ).then(function(){\n",
       "                            \n",
       "var gd = document.getElementById('4e61b2d5-9421-47c6-85b4-d2b71169fdd9');\n",
       "var x = new MutationObserver(function (mutations, observer) {{\n",
       "        var display = window.getComputedStyle(gd).display;\n",
       "        if (!display || display === 'none') {{\n",
       "            console.log([gd, 'removed!']);\n",
       "            Plotly.purge(gd);\n",
       "            observer.disconnect();\n",
       "        }}\n",
       "}});\n",
       "\n",
       "// Listen for the removal of the full notebook cells\n",
       "var notebookContainer = gd.closest('#notebook-container');\n",
       "if (notebookContainer) {{\n",
       "    x.observe(notebookContainer, {childList: true});\n",
       "}}\n",
       "\n",
       "// Listen for the clearing of the current output cell\n",
       "var outputEl = gd.closest('.output');\n",
       "if (outputEl) {{\n",
       "    x.observe(outputEl, {childList: true});\n",
       "}}\n",
       "\n",
       "                        })                };                });            </script>        </div>"
      ]
     },
     "metadata": {},
     "output_type": "display_data"
    }
   ],
   "source": [
    "import plotly.graph_objects as go\n",
    "from plotly.subplots import make_subplots\n",
    "\n",
    "\n",
    "fig = make_subplots(\n",
    "    rows=2, cols=2,\n",
    "    specs=[[{\"type\": \"box\"}, {\"type\": \"box\"}],\n",
    "           [{\"type\": \"box\"}, {\"type\": \"box\"}]],\n",
    ")\n",
    "\n",
    "fig.add_trace(go.Box(y=data['age'], boxpoints='all', name='age'),\n",
    "              row=1, col=1)\n",
    "\n",
    "fig.add_trace(go.Box(y=data['weight'], boxpoints='all', name='weight'),\n",
    "              row=1, col=2)\n",
    "\n",
    "fig.add_trace(go.Box(y=data['height'], boxpoints='all', name='height'),\n",
    "              row=2, col=1)\n",
    "\n",
    "fig.add_trace(go.Box(y=data['rating'], boxpoints='all', name='rating'),\n",
    "              row=2, col=2)\n",
    "fig.update_layout(height=1000)\n",
    "fig.show()"
   ]
  },
  {
   "cell_type": "markdown",
   "metadata": {},
   "source": [
    "Some of data can be assumed as an outlier. We can remove them using percentiles."
   ]
  },
  {
   "cell_type": "code",
   "execution_count": 64,
   "metadata": {},
   "outputs": [],
   "source": [
    "for column in ['weight', 'height']:\n",
    "    upper_lim = data[column].quantile(.95)\n",
    "    lower_lim = data[column].quantile(.05)\n",
    "    data.loc[(data[column] > upper_lim),column] = upper_lim\n",
    "    data.loc[(data[column] < lower_lim),column] = lower_lim\n",
    "for column in ['age', 'rating']:\n",
    "    upper_lim = data[column].quantile(.95)\n",
    "    lower_lim = data[column].quantile(.05)\n",
    "    data.loc[(data[column] > upper_lim),column] = int(upper_lim)\n",
    "    data.loc[(data[column] < lower_lim),column] = int(lower_lim)"
   ]
  },
  {
   "cell_type": "code",
   "execution_count": 65,
   "metadata": {},
   "outputs": [
    {
     "data": {
      "text/html": [
       "<div>\n",
       "<style scoped>\n",
       "    .dataframe tbody tr th:only-of-type {\n",
       "        vertical-align: middle;\n",
       "    }\n",
       "\n",
       "    .dataframe tbody tr th {\n",
       "        vertical-align: top;\n",
       "    }\n",
       "\n",
       "    .dataframe thead th {\n",
       "        text-align: right;\n",
       "    }\n",
       "</style>\n",
       "<table border=\"1\" class=\"dataframe\">\n",
       "  <thead>\n",
       "    <tr style=\"text-align: right;\">\n",
       "      <th></th>\n",
       "      <th>rating</th>\n",
       "      <th>team</th>\n",
       "      <th>position</th>\n",
       "      <th>height</th>\n",
       "      <th>weight</th>\n",
       "      <th>salary</th>\n",
       "      <th>country</th>\n",
       "      <th>draft_year</th>\n",
       "      <th>draft_round</th>\n",
       "      <th>age</th>\n",
       "    </tr>\n",
       "  </thead>\n",
       "  <tbody>\n",
       "    <tr>\n",
       "      <th>0</th>\n",
       "      <td>87</td>\n",
       "      <td>Los Angeles Lakers</td>\n",
       "      <td>F</td>\n",
       "      <td>2.06</td>\n",
       "      <td>113.4</td>\n",
       "      <td>37436858.0</td>\n",
       "      <td>USA</td>\n",
       "      <td>2003</td>\n",
       "      <td>1</td>\n",
       "      <td>35</td>\n",
       "    </tr>\n",
       "    <tr>\n",
       "      <th>1</th>\n",
       "      <td>87</td>\n",
       "      <td>Los Angeles Clippers</td>\n",
       "      <td>F</td>\n",
       "      <td>2.01</td>\n",
       "      <td>102.1</td>\n",
       "      <td>32742000.0</td>\n",
       "      <td>USA</td>\n",
       "      <td>2011</td>\n",
       "      <td>1</td>\n",
       "      <td>29</td>\n",
       "    </tr>\n",
       "    <tr>\n",
       "      <th>2</th>\n",
       "      <td>87</td>\n",
       "      <td>Milwaukee Bucks</td>\n",
       "      <td>F</td>\n",
       "      <td>2.11</td>\n",
       "      <td>109.8</td>\n",
       "      <td>25842697.0</td>\n",
       "      <td>not USA</td>\n",
       "      <td>2013</td>\n",
       "      <td>1</td>\n",
       "      <td>26</td>\n",
       "    </tr>\n",
       "    <tr>\n",
       "      <th>3</th>\n",
       "      <td>87</td>\n",
       "      <td>Brooklyn Nets</td>\n",
       "      <td>F</td>\n",
       "      <td>2.08</td>\n",
       "      <td>104.3</td>\n",
       "      <td>37199000.0</td>\n",
       "      <td>USA</td>\n",
       "      <td>2007</td>\n",
       "      <td>1</td>\n",
       "      <td>32</td>\n",
       "    </tr>\n",
       "    <tr>\n",
       "      <th>4</th>\n",
       "      <td>87</td>\n",
       "      <td>Houston Rockets</td>\n",
       "      <td>G</td>\n",
       "      <td>1.96</td>\n",
       "      <td>99.8</td>\n",
       "      <td>38199000.0</td>\n",
       "      <td>USA</td>\n",
       "      <td>2009</td>\n",
       "      <td>1</td>\n",
       "      <td>31</td>\n",
       "    </tr>\n",
       "  </tbody>\n",
       "</table>\n",
       "</div>"
      ],
      "text/plain": [
       "   rating                  team position  height  weight      salary  country  \\\n",
       "0      87    Los Angeles Lakers        F    2.06   113.4  37436858.0      USA   \n",
       "1      87  Los Angeles Clippers        F    2.01   102.1  32742000.0      USA   \n",
       "2      87       Milwaukee Bucks        F    2.11   109.8  25842697.0  not USA   \n",
       "3      87         Brooklyn Nets        F    2.08   104.3  37199000.0      USA   \n",
       "4      87       Houston Rockets        G    1.96    99.8  38199000.0      USA   \n",
       "\n",
       "   draft_year  draft_round  age  \n",
       "0        2003            1   35  \n",
       "1        2011            1   29  \n",
       "2        2013            1   26  \n",
       "3        2007            1   32  \n",
       "4        2009            1   31  "
      ]
     },
     "execution_count": 65,
     "metadata": {},
     "output_type": "execute_result"
    }
   ],
   "source": [
    "data.head(5)"
   ]
  },
  {
   "cell_type": "markdown",
   "metadata": {},
   "source": [
    "At this point we are ready to start our Linear Regression analysis to predict the player's salaries."
   ]
  },
  {
   "cell_type": "markdown",
   "metadata": {},
   "source": [
    "## 4. Data Modeling and predictions using Linear Regression"
   ]
  },
  {
   "cell_type": "code",
   "execution_count": 66,
   "metadata": {},
   "outputs": [],
   "source": [
    "# converting categorical data to one-hot encoding\n",
    "\n",
    "for column in ['team', 'country', 'position', 'draft_round']:\n",
    "    encoded_columns = pd.get_dummies(data[column])\n",
    "    data = data.join(encoded_columns).drop(column, axis=1)"
   ]
  },
  {
   "cell_type": "code",
   "execution_count": 67,
   "metadata": {},
   "outputs": [],
   "source": [
    "X, y = data.drop(['salary'], axis = 1), data['salary']"
   ]
  },
  {
   "cell_type": "code",
   "execution_count": 68,
   "metadata": {},
   "outputs": [],
   "source": [
    "from sklearn.model_selection import train_test_split\n",
    "from sklearn.linear_model import LinearRegression\n",
    "from sklearn.linear_model import Ridge\n",
    "from sklearn import preprocessing"
   ]
  },
  {
   "cell_type": "code",
   "execution_count": 69,
   "metadata": {},
   "outputs": [
    {
     "name": "stdout",
     "output_type": "stream",
     "text": [
      "(429, 45)\n",
      "(429,)\n"
     ]
    }
   ],
   "source": [
    "# So we can see, that we get 46 feature columns\n",
    "print(X.shape)\n",
    "print(y.shape)"
   ]
  },
  {
   "cell_type": "code",
   "execution_count": 70,
   "metadata": {},
   "outputs": [],
   "source": [
    "#normalizing input features\n",
    "normalizer = preprocessing.Normalizer().fit(X)\n",
    "X = normalizer.transform(X)"
   ]
  },
  {
   "cell_type": "markdown",
   "metadata": {},
   "source": [
    "### 4.1.Testing simple linear regression\n"
   ]
  },
  {
   "cell_type": "code",
   "execution_count": 71,
   "metadata": {},
   "outputs": [],
   "source": [
    "from sklearn.linear_model import LinearRegression\n",
    "from sklearn.metrics import r2_score\n",
    "from sklearn.model_selection import train_test_split\n",
    "from sklearn.preprocessing import (StandardScaler, \n",
    "                                   PolynomialFeatures)"
   ]
  },
  {
   "cell_type": "code",
   "execution_count": 72,
   "metadata": {},
   "outputs": [],
   "source": [
    "#create polynomial features\n",
    "pf = PolynomialFeatures(degree=2, include_bias=False)\n",
    "X_pf = pf.fit_transform(X)"
   ]
  },
  {
   "cell_type": "code",
   "execution_count": 73,
   "metadata": {},
   "outputs": [],
   "source": [
    "# train test split\n",
    "X_train, X_test, y_train, y_test = train_test_split(X_pf, y, test_size=0.3, random_state=72018)"
   ]
  },
  {
   "cell_type": "markdown",
   "metadata": {},
   "source": [
    "**Fit `StandardScaler` on `X_train`**"
   ]
  },
  {
   "cell_type": "code",
   "execution_count": 74,
   "metadata": {},
   "outputs": [],
   "source": [
    "s = StandardScaler()\n",
    "X_train_s = s.fit_transform(X_train)"
   ]
  },
  {
   "cell_type": "code",
   "execution_count": 75,
   "metadata": {},
   "outputs": [
    {
     "name": "stdout",
     "output_type": "stream",
     "text": [
      "[-54849279.23227525  14674607.0486179  -13501975.61589289 ...\n",
      "   6533591.88528198         0.         -15845279.46696517]\n"
     ]
    }
   ],
   "source": [
    "lr = LinearRegression()\n",
    "lr.fit(X_train_s, y_train)\n",
    "\n",
    "print(lr.coef_) # coefficients now \"on the same scale\""
   ]
  },
  {
   "cell_type": "code",
   "execution_count": 76,
   "metadata": {},
   "outputs": [],
   "source": [
    "rr = Ridge(alpha=0.01) \n",
    "# higher the alpha value, more restriction on the coefficients; low alpha > more generalization,\n",
    "# in this case linear and ridge regression resembles\n",
    "rr.fit(X_train, y_train)\n",
    "rr100 = Ridge(alpha=100) #  comparison with alpha value\n",
    "rr100.fit(X_train, y_train)\n",
    "\n",
    "train_score=lr.score(X_train, y_train)\n",
    "test_score=lr.score(X_test, y_test)\n",
    "\n",
    "Ridge_train_score = rr.score(X_train,y_train)\n",
    "Ridge_test_score = rr.score(X_test, y_test)\n",
    "\n",
    "Ridge_train_score100 = rr100.score(X_train,y_train)\n",
    "Ridge_test_score100 = rr100.score(X_test, y_test)\n",
    "\n"
   ]
  },
  {
   "cell_type": "code",
   "execution_count": 79,
   "metadata": {},
   "outputs": [
    {
     "data": {
      "image/png": "[encoded data removed]",
      "text/plain": [
       "<Figure size 1152x288 with 1 Axes>"
      ]
     },
     "metadata": {
      "needs_background": "light"
     },
     "output_type": "display_data"
    }
   ],
   "source": [
    "import matplotlib.pyplot as plt\n",
    "import matplotlib\n",
    "matplotlib.rcParams.update({'font.size': 12})\n",
    "plt.rcParams[\"figure.figsize\"] = (16,4)\n",
    "\n",
    "plt.plot(rr.coef_,alpha=0.2,linestyle='none',marker='*',markersize=6,color='red',label=r'Ridge; $\\alpha = 0.01$',zorder=7) \n",
    "plt.plot(rr100.coef_,alpha=0.7,linestyle='none',marker='d',markersize=6,color='blue',label=r'Ridge; $\\alpha = 100$') \n",
    "plt.plot(lr.coef_,alpha=0.3,linestyle='none',marker='o',markersize=6,color='green',label='Linear Regression')\n",
    "plt.xlabel('Coefficient Index',fontsize=16)\n",
    "plt.ylabel('Coefficient Magnitude',fontsize=16)\n",
    "plt.legend(fontsize=13,loc=1)\n",
    "plt.show()"
   ]
  },
  {
   "cell_type": "code",
   "execution_count": 80,
   "metadata": {},
   "outputs": [
    {
     "name": "stdout",
     "output_type": "stream",
     "text": [
      "training score: 0.7489902414244094\n",
      "test score:  0.624417908729788\n",
      "number of features used:  68\n"
     ]
    },
    {
     "name": "stderr",
     "output_type": "stream",
     "text": [
      "C:\\Users\\Roberto\\anaconda3\\lib\\site-packages\\sklearn\\linear_model\\_coordinate_descent.py:529: ConvergenceWarning:\n",
      "\n",
      "Objective did not converge. You might want to increase the number of iterations. Duality gap: 2742890474987788.0, tolerance: 2574363433971.3584\n",
      "\n"
     ]
    }
   ],
   "source": [
    "from sklearn.linear_model import Lasso\n",
    "\n",
    "\n",
    "lasso = Lasso()\n",
    "lasso.fit(X_train,y_train)\n",
    "train_score=lasso.score(X_train,y_train)\n",
    "test_score=lasso.score(X_test,y_test)\n",
    "coeff_used = np.sum(lasso.coef_!=0)\n",
    "\n",
    "print(\"training score:\", train_score) \n",
    "print(\"test score: \", test_score)\n",
    "print(\"number of features used: \", coeff_used)"
   ]
  },
  {
   "cell_type": "code",
   "execution_count": 45,
   "metadata": {},
   "outputs": [
    {
     "name": "stdout",
     "output_type": "stream",
     "text": [
      "training score for alpha=0.01: 0.890239295167275\n",
      "test score for alpha =0.01:  0.33583922961311585\n",
      "number of features used: for alpha =0.01: 163\n"
     ]
    },
    {
     "name": "stderr",
     "output_type": "stream",
     "text": [
      "C:\\Users\\Roberto\\anaconda3\\lib\\site-packages\\sklearn\\linear_model\\_coordinate_descent.py:529: ConvergenceWarning:\n",
      "\n",
      "Objective did not converge. You might want to increase the number of iterations. Duality gap: 581618998692774.0, tolerance: 2574363433971.3584\n",
      "\n"
     ]
    }
   ],
   "source": [
    "lasso001 = Lasso(alpha=0.01, max_iter=10e5)\n",
    "lasso001.fit(X_train,y_train)\n",
    "train_score001=lasso001.score(X_train,y_train)\n",
    "test_score001=lasso001.score(X_test,y_test)\n",
    "coeff_used001 = np.sum(lasso001.coef_!=0)\n",
    "print(\"training score for alpha=0.01:\", train_score001) \n",
    "print(\"test score for alpha =0.01: \", test_score001)\n",
    "print(\"number of features used: for alpha =0.01:\", coeff_used001)"
   ]
  },
  {
   "cell_type": "code",
   "execution_count": 46,
   "metadata": {},
   "outputs": [
    {
     "name": "stdout",
     "output_type": "stream",
     "text": [
      "training score for alpha=0.0001: 0.9944524553804576\n",
      "test score for alpha =0.0001:  -6.247878191301092\n",
      "number of features used: for alpha =0.0001: 347\n"
     ]
    },
    {
     "name": "stderr",
     "output_type": "stream",
     "text": [
      "C:\\Users\\Roberto\\anaconda3\\lib\\site-packages\\sklearn\\linear_model\\_coordinate_descent.py:529: ConvergenceWarning:\n",
      "\n",
      "Objective did not converge. You might want to increase the number of iterations. Duality gap: 233694404903508.53, tolerance: 2574363433971.3584\n",
      "\n"
     ]
    }
   ],
   "source": [
    "lasso00001 = Lasso(alpha=0.0001, max_iter=10e5)\n",
    "lasso00001.fit(X_train,y_train)\n",
    "train_score00001=lasso00001.score(X_train,y_train)\n",
    "test_score00001=lasso00001.score(X_test,y_test)\n",
    "coeff_used00001 = np.sum(lasso00001.coef_!=0)\n",
    "\n",
    "print(\"training score for alpha=0.0001:\", train_score00001)\n",
    "print(\"test score for alpha =0.0001: \", test_score00001)\n",
    "print(\"number of features used: for alpha =0.0001:\", coeff_used00001)"
   ]
  },
  {
   "cell_type": "code",
   "execution_count": 52,
   "metadata": {},
   "outputs": [
    {
     "data": {
      "image/png": "[encoded data removed]",
      "text/plain": [
       "<Figure size 1440x576 with 2 Axes>"
      ]
     },
     "metadata": {
      "needs_background": "light"
     },
     "output_type": "display_data"
    }
   ],
   "source": [
    "plt.rcParams[\"figure.figsize\"] = (20,8)\n",
    "\n",
    "plt.subplot(1,2,1)\n",
    "plt.plot(lasso.coef_,alpha=0.7,linestyle='none',marker='*',markersize=5,color='red',label=r'Lasso; $\\alpha = 1$',zorder=7) # alpha here is for transparency\n",
    "plt.plot(lasso001.coef_,alpha=0.5,linestyle='none',marker='d',markersize=6,color='blue',label=r'Lasso; $\\alpha = 0.01$') # alpha here is for transparency\n",
    "\n",
    "plt.xlabel('Coefficient Index',fontsize=16)\n",
    "plt.ylabel('Coefficient Magnitude',fontsize=16)\n",
    "plt.legend(fontsize=20,loc=1)\n",
    "plt.subplot(1,2,2)\n",
    "\n",
    "plt.plot(lasso.coef_,alpha=0.7,linestyle='none',marker='*',markersize=5,color='red',label=r'Lasso; $\\alpha = 1$',zorder=7) # alpha here is for transparency\n",
    "plt.plot(lasso001.coef_,alpha=0.5,linestyle='none',marker='d',markersize=6,color='blue',label=r'Lasso; $\\alpha = 0.01$') # alpha here is for transparency\n",
    "plt.plot(lasso00001.coef_,alpha=0.8,linestyle='none',marker='v',markersize=6,color='black',label=r'Lasso; $\\alpha = 0.00001$') # alpha here is for transparency\n",
    "plt.plot(lr.coef_,alpha=0.7,linestyle='none',marker='o',markersize=5,color='green',label='Linear Regression',zorder=2)\n",
    "\n",
    "plt.xlabel('Coefficient Index',fontsize=16)\n",
    "plt.ylabel('Coefficient Magnitude',fontsize=16)\n",
    "plt.legend(fontsize=20,loc=1)\n",
    "plt.tight_layout()\n",
    "plt.show()"
   ]
  },
  {
   "cell_type": "code",
   "execution_count": 53,
   "metadata": {},
   "outputs": [
    {
     "data": {
      "text/html": [
       "<div>\n",
       "<style scoped>\n",
       "    .dataframe tbody tr th:only-of-type {\n",
       "        vertical-align: middle;\n",
       "    }\n",
       "\n",
       "    .dataframe tbody tr th {\n",
       "        vertical-align: top;\n",
       "    }\n",
       "\n",
       "    .dataframe thead th {\n",
       "        text-align: right;\n",
       "    }\n",
       "</style>\n",
       "<table border=\"1\" class=\"dataframe\">\n",
       "  <thead>\n",
       "    <tr style=\"text-align: right;\">\n",
       "      <th></th>\n",
       "      <th>linear regression</th>\n",
       "      <th>ridge regression</th>\n",
       "      <th>lasso regression</th>\n",
       "    </tr>\n",
       "  </thead>\n",
       "  <tbody>\n",
       "    <tr>\n",
       "      <th>count</th>\n",
       "      <td>1.080000e+03</td>\n",
       "      <td>1.080000e+03</td>\n",
       "      <td>1.080000e+03</td>\n",
       "    </tr>\n",
       "    <tr>\n",
       "      <th>mean</th>\n",
       "      <td>4.014084e+06</td>\n",
       "      <td>1.230789e+06</td>\n",
       "      <td>8.255282e+08</td>\n",
       "    </tr>\n",
       "    <tr>\n",
       "      <th>std</th>\n",
       "      <td>9.546028e+06</td>\n",
       "      <td>1.724569e+07</td>\n",
       "      <td>1.448286e+10</td>\n",
       "    </tr>\n",
       "    <tr>\n",
       "      <th>min</th>\n",
       "      <td>0.000000e+00</td>\n",
       "      <td>0.000000e+00</td>\n",
       "      <td>0.000000e+00</td>\n",
       "    </tr>\n",
       "    <tr>\n",
       "      <th>25%</th>\n",
       "      <td>0.000000e+00</td>\n",
       "      <td>0.000000e+00</td>\n",
       "      <td>0.000000e+00</td>\n",
       "    </tr>\n",
       "    <tr>\n",
       "      <th>50%</th>\n",
       "      <td>2.426878e+05</td>\n",
       "      <td>6.216047e+01</td>\n",
       "      <td>0.000000e+00</td>\n",
       "    </tr>\n",
       "    <tr>\n",
       "      <th>75%</th>\n",
       "      <td>4.146345e+06</td>\n",
       "      <td>7.467589e+02</td>\n",
       "      <td>0.000000e+00</td>\n",
       "    </tr>\n",
       "    <tr>\n",
       "      <th>max</th>\n",
       "      <td>1.057652e+08</td>\n",
       "      <td>3.581923e+08</td>\n",
       "      <td>4.436140e+11</td>\n",
       "    </tr>\n",
       "  </tbody>\n",
       "</table>\n",
       "</div>"
      ],
      "text/plain": [
       "       linear regression  ridge regression  lasso regression\n",
       "count       1.080000e+03      1.080000e+03      1.080000e+03\n",
       "mean        4.014084e+06      1.230789e+06      8.255282e+08\n",
       "std         9.546028e+06      1.724569e+07      1.448286e+10\n",
       "min         0.000000e+00      0.000000e+00      0.000000e+00\n",
       "25%         0.000000e+00      0.000000e+00      0.000000e+00\n",
       "50%         2.426878e+05      6.216047e+01      0.000000e+00\n",
       "75%         4.146345e+06      7.467589e+02      0.000000e+00\n",
       "max         1.057652e+08      3.581923e+08      4.436140e+11"
      ]
     },
     "execution_count": 53,
     "metadata": {},
     "output_type": "execute_result"
    }
   ],
   "source": [
    "# let's look at the absolute value of coefficients for each model\n",
    "\n",
    "coefficients = pd.DataFrame()\n",
    "coefficients['linear regression'] = lr.coef_\n",
    "coefficients['ridge regression'] = rr.coef_\n",
    "coefficients['lasso regression'] = lasso.coef_.ravel()\n",
    "coefficients = coefficients.applymap(abs)\n",
    "\n",
    "coefficients.describe() "
   ]
  },
  {
   "cell_type": "markdown",
   "metadata": {},
   "source": [
    "* To evaluate the models we will use **`rmse`** function that takes in truth and prediction values and returns the root-mean-squared error. Use sklearn's `mean_squared_error`.  "
   ]
  },
  {
   "cell_type": "code",
   "execution_count": 81,
   "metadata": {},
   "outputs": [],
   "source": [
    "from sklearn.metrics import mean_squared_error\n",
    "\n",
    "\n",
    "def rmse(ytrue, ypredicted):\n",
    "    return np.sqrt(mean_squared_error(ytrue, ypredicted))"
   ]
  },
  {
   "cell_type": "code",
   "execution_count": 82,
   "metadata": {},
   "outputs": [
    {
     "name": "stdout",
     "output_type": "stream",
     "text": [
      "31804788.100356515\n"
     ]
    }
   ],
   "source": [
    "lr_rmse = rmse(y_test, lr.predict(X_test))\n",
    "\n",
    "print(lr_rmse)"
   ]
  },
  {
   "cell_type": "code",
   "execution_count": 87,
   "metadata": {},
   "outputs": [
    {
     "name": "stdout",
     "output_type": "stream",
     "text": [
      "7426057.476651215\n"
     ]
    }
   ],
   "source": [
    "rr_rmse = rmse(y_test, rr.predict(X_test))\n",
    "\n",
    "print(rr_rmse)"
   ]
  },
  {
   "cell_type": "code",
   "execution_count": 89,
   "metadata": {},
   "outputs": [
    {
     "name": "stdout",
     "output_type": "stream",
     "text": [
      "5550061.768658243\n"
     ]
    }
   ],
   "source": [
    "lasso_rmse = rmse(y_test, lasso.predict(X_test))\n",
    "\n",
    "print(lasso_rmse)  # Lasso is slower"
   ]
  },
  {
   "cell_type": "code",
   "execution_count": 90,
   "metadata": {},
   "outputs": [
    {
     "name": "stdout",
     "output_type": "stream",
     "text": [
      "Of 1080 coefficients, 68 are non-zero with Lasso.\n"
     ]
    }
   ],
   "source": [
    "print('Of {} coefficients, {} are non-zero with Lasso.'.format(len(lasso.coef_), \n",
    "                                                               len(lasso.coef_.nonzero()[0])))"
   ]
  },
  {
   "cell_type": "markdown",
   "metadata": {},
   "source": [
    "Comparing the RMSE calculation from all models is easiest in a table."
   ]
  },
  {
   "cell_type": "code",
   "execution_count": 91,
   "metadata": {},
   "outputs": [
    {
     "data": {
      "text/html": [
       "<div>\n",
       "<style scoped>\n",
       "    .dataframe tbody tr th:only-of-type {\n",
       "        vertical-align: middle;\n",
       "    }\n",
       "\n",
       "    .dataframe tbody tr th {\n",
       "        vertical-align: top;\n",
       "    }\n",
       "\n",
       "    .dataframe thead th {\n",
       "        text-align: right;\n",
       "    }\n",
       "</style>\n",
       "<table border=\"1\" class=\"dataframe\">\n",
       "  <thead>\n",
       "    <tr style=\"text-align: right;\">\n",
       "      <th></th>\n",
       "      <th>RMSE</th>\n",
       "    </tr>\n",
       "  </thead>\n",
       "  <tbody>\n",
       "    <tr>\n",
       "      <th>Linear</th>\n",
       "      <td>3.180479e+07</td>\n",
       "    </tr>\n",
       "    <tr>\n",
       "      <th>Ridge</th>\n",
       "      <td>7.426057e+06</td>\n",
       "    </tr>\n",
       "    <tr>\n",
       "      <th>Lasso</th>\n",
       "      <td>5.550062e+06</td>\n",
       "    </tr>\n",
       "  </tbody>\n",
       "</table>\n",
       "</div>"
      ],
      "text/plain": [
       "                RMSE\n",
       "Linear  3.180479e+07\n",
       "Ridge   7.426057e+06\n",
       "Lasso   5.550062e+06"
      ]
     },
     "execution_count": 91,
     "metadata": {},
     "output_type": "execute_result"
    }
   ],
   "source": [
    "rmse_vals = [lr_rmse, rr_rmse, lasso_rmse]\n",
    "\n",
    "labels = ['Linear', 'Ridge', 'Lasso']\n",
    "\n",
    "rmse_df = pd.Series(rmse_vals, index=labels).to_frame()\n",
    "rmse_df.rename(columns={0: 'RMSE'}, inplace=1)\n",
    "rmse_df"
   ]
  },
  {
   "cell_type": "code",
   "execution_count": null,
   "metadata": {},
   "outputs": [],
   "source": [
    "We can now plot of actual vs predicted player salaries."
   ]
  },
  {
   "cell_type": "code",
   "execution_count": 98,
   "metadata": {},
   "outputs": [
    {
     "data": {
      "image/png": "[encoded data removed]",
      "text/plain": [
       "<Figure size 432x432 with 1 Axes>"
      ]
     },
     "metadata": {
      "needs_background": "light"
     },
     "output_type": "display_data"
    }
   ],
   "source": [
    "f = plt.figure(figsize=(6,6))\n",
    "ax = plt.axes()\n",
    "\n",
    "labels = ['Ridge', 'Lasso']\n",
    "\n",
    "models = [rr, lasso]\n",
    "\n",
    "for mod, lab in zip(models, labels):\n",
    "    ax.plot(y_test, mod.predict(X_test), \n",
    "             marker='o', ls='', ms=7.0, label=lab)\n",
    "\n",
    "\n",
    "leg = plt.legend(frameon=True)\n",
    "leg.get_frame().set_edgecolor('black')\n",
    "leg.get_frame().set_linewidth(1.0)\n",
    "\n",
    "ax.set(xlabel='Actual Salary', \n",
    "       ylabel='Predicted Salary', \n",
    "       title='Linear Regression Results');"
   ]
  },
  {
   "cell_type": "markdown",
   "metadata": {},
   "source": [
    "Let's explore Stochastic gradient descent"
   ]
  },
  {
   "cell_type": "code",
   "execution_count": 100,
   "metadata": {},
   "outputs": [
    {
     "name": "stderr",
     "output_type": "stream",
     "text": [
      "C:\\Users\\Roberto\\anaconda3\\lib\\site-packages\\sklearn\\linear_model\\_stochastic_gradient.py:1208: ConvergenceWarning:\n",
      "\n",
      "Maximum number of iteration reached before convergence. Consider increasing max_iter to improve the fit.\n",
      "\n",
      "C:\\Users\\Roberto\\anaconda3\\lib\\site-packages\\sklearn\\linear_model\\_stochastic_gradient.py:1208: ConvergenceWarning:\n",
      "\n",
      "Maximum number of iteration reached before convergence. Consider increasing max_iter to improve the fit.\n",
      "\n",
      "C:\\Users\\Roberto\\anaconda3\\lib\\site-packages\\sklearn\\linear_model\\_stochastic_gradient.py:1208: ConvergenceWarning:\n",
      "\n",
      "Maximum number of iteration reached before convergence. Consider increasing max_iter to improve the fit.\n",
      "\n"
     ]
    },
    {
     "data": {
      "text/html": [
       "<div>\n",
       "<style scoped>\n",
       "    .dataframe tbody tr th:only-of-type {\n",
       "        vertical-align: middle;\n",
       "    }\n",
       "\n",
       "    .dataframe tbody tr th {\n",
       "        vertical-align: top;\n",
       "    }\n",
       "\n",
       "    .dataframe thead th {\n",
       "        text-align: right;\n",
       "    }\n",
       "</style>\n",
       "<table border=\"1\" class=\"dataframe\">\n",
       "  <thead>\n",
       "    <tr style=\"text-align: right;\">\n",
       "      <th></th>\n",
       "      <th>RMSE</th>\n",
       "      <th>RMSE-SGD-learningrate</th>\n",
       "    </tr>\n",
       "  </thead>\n",
       "  <tbody>\n",
       "    <tr>\n",
       "      <th>Linear</th>\n",
       "      <td>3.180479e+07</td>\n",
       "      <td>1.275380e+07</td>\n",
       "    </tr>\n",
       "    <tr>\n",
       "      <th>Ridge</th>\n",
       "      <td>7.426057e+06</td>\n",
       "      <td>1.277166e+07</td>\n",
       "    </tr>\n",
       "    <tr>\n",
       "      <th>Lasso</th>\n",
       "      <td>5.550062e+06</td>\n",
       "      <td>1.277372e+07</td>\n",
       "    </tr>\n",
       "  </tbody>\n",
       "</table>\n",
       "</div>"
      ],
      "text/plain": [
       "                RMSE  RMSE-SGD-learningrate\n",
       "Linear  3.180479e+07           1.275380e+07\n",
       "Ridge   7.426057e+06           1.277166e+07\n",
       "Lasso   5.550062e+06           1.277372e+07"
      ]
     },
     "execution_count": 100,
     "metadata": {},
     "output_type": "execute_result"
    }
   ],
   "source": [
    "# Import SGDRegressor and prepare the parameters\n",
    "from sklearn.linear_model import SGDRegressor\n",
    "\n",
    "model_parameters_dict = {\n",
    "    'Linear': {'penalty': 'none'},\n",
    "    'Lasso': {'penalty': 'l2',\n",
    "           'alpha': lasso_rmse},\n",
    "    'Ridge': {'penalty': 'l1',\n",
    "           'alpha': rr_rmse},}\n",
    "\n",
    "new_rmses = {}\n",
    "for modellabel, parameters in model_parameters_dict.items():\n",
    "    # following notation passes the dict items as arguments\n",
    "    SGD = SGDRegressor(eta0=1e-7, **parameters)\n",
    "    SGD.fit(X_train, y_train)\n",
    "    new_rmses[modellabel] = rmse(y_test, SGD.predict(X_test))\n",
    "\n",
    "rmse_df['RMSE-SGD-learningrate'] = pd.Series(new_rmses)\n",
    "rmse_df"
   ]
  },
  {
   "cell_type": "code",
   "execution_count": 101,
   "metadata": {},
   "outputs": [
    {
     "data": {
      "text/html": [
       "<div>\n",
       "<style scoped>\n",
       "    .dataframe tbody tr th:only-of-type {\n",
       "        vertical-align: middle;\n",
       "    }\n",
       "\n",
       "    .dataframe tbody tr th {\n",
       "        vertical-align: top;\n",
       "    }\n",
       "\n",
       "    .dataframe thead th {\n",
       "        text-align: right;\n",
       "    }\n",
       "</style>\n",
       "<table border=\"1\" class=\"dataframe\">\n",
       "  <thead>\n",
       "    <tr style=\"text-align: right;\">\n",
       "      <th></th>\n",
       "      <th>RMSE</th>\n",
       "      <th>RMSE-SGD-learningrate</th>\n",
       "      <th>RMSE-SGD-scaled</th>\n",
       "    </tr>\n",
       "  </thead>\n",
       "  <tbody>\n",
       "    <tr>\n",
       "      <th>Linear</th>\n",
       "      <td>3.180479e+07</td>\n",
       "      <td>1.275380e+07</td>\n",
       "      <td>6.213122e+06</td>\n",
       "    </tr>\n",
       "    <tr>\n",
       "      <th>Ridge</th>\n",
       "      <td>7.426057e+06</td>\n",
       "      <td>1.277166e+07</td>\n",
       "      <td>9.083066e+06</td>\n",
       "    </tr>\n",
       "    <tr>\n",
       "      <th>Lasso</th>\n",
       "      <td>5.550062e+06</td>\n",
       "      <td>1.277372e+07</td>\n",
       "      <td>9.113835e+06</td>\n",
       "    </tr>\n",
       "  </tbody>\n",
       "</table>\n",
       "</div>"
      ],
      "text/plain": [
       "                RMSE  RMSE-SGD-learningrate  RMSE-SGD-scaled\n",
       "Linear  3.180479e+07           1.275380e+07     6.213122e+06\n",
       "Ridge   7.426057e+06           1.277166e+07     9.083066e+06\n",
       "Lasso   5.550062e+06           1.277372e+07     9.113835e+06"
      ]
     },
     "execution_count": 101,
     "metadata": {},
     "output_type": "execute_result"
    }
   ],
   "source": [
    "from sklearn.preprocessing import MinMaxScaler\n",
    "\n",
    "scaler = MinMaxScaler()\n",
    "X_train_scaled = scaler.fit_transform(X_train)\n",
    "X_test_scaled = scaler.transform(X_test)\n",
    "\n",
    "new_rmses = {}\n",
    "for modellabel, parameters in model_parameters_dict.items():\n",
    "    # following notation passes the dict items as arguments\n",
    "    SGD = SGDRegressor(**parameters)\n",
    "    SGD.fit(X_train_scaled, y_train)\n",
    "    new_rmses[modellabel] = rmse(y_test, SGD.predict(X_test_scaled))\n",
    "\n",
    "rmse_df['RMSE-SGD-scaled'] = pd.Series(new_rmses)\n",
    "rmse_df"
   ]
  },
  {
   "cell_type": "code",
   "execution_count": null,
   "metadata": {},
   "outputs": [],
   "source": []
  },
  {
   "cell_type": "code",
   "execution_count": null,
   "metadata": {},
   "outputs": [],
   "source": []
  },
  {
   "cell_type": "markdown",
   "metadata": {},
   "source": [
    "Summary of training at least three linear regression models which should be variations that cover using a simple linear regression as a baseline, adding polynomial effects, and using a regularization regression. Preferably, all use the same training and test splits, or the same cross-validation method.\n",
    "\n",
    "A paragraph explaining which of your regressions you recommend as a final model that best fits your needs in terms of accuracy and explainability.\n",
    "\n",
    "Summary Key Findings and Insights, which walks your reader through the main drivers of your model and insights from your data derived from your linear regression model.\n",
    "\n",
    "Suggestions for next steps in analyzing this data, which may include suggesting revisiting this model adding specific data features to achieve a better explanation or a better prediction."
   ]
  }
 ],
 "metadata": {
  "kernelspec": {
   "display_name": "Python 3",
   "language": "python",
   "name": "python3"
  },
  "language_info": {
   "codemirror_mode": {
    "name": "ipython",
    "version": 3
   },
   "file_extension": ".py",
   "mimetype": "text/x-python",
   "name": "python",
   "nbconvert_exporter": "python",
   "pygments_lexer": "ipython3",
   "version": "3.8.3"
  }
 },
 "nbformat": 4,
 "nbformat_minor": 4
}
